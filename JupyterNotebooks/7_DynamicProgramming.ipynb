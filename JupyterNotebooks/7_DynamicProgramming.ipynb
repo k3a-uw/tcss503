{
 "cells": [
  {
   "cell_type": "markdown",
   "metadata": {},
   "source": [
    "# TCSS503 - Week 7 Dynamic Programming\n",
    "\n",
    "In this interactive tutorial we will review how dynamic programming can be used to solve computationally complex problems by building up solutions to smaller problems and using those calculations to solve harder problems.  We will use three different examples of increasing complexity to help with understanding.\n",
    "\n",
    "## Fibonacci Sequence\n",
    "  \n",
    "The Fibonacci Sequence is a series of numbers where each number in the series is the sum of the previous two numbers.  The first and second numbers in the series are 0 and 1 respectively.\n",
    "\n",
    "$fib(0) = 0$ \\\n",
    "$fib(1) = 1$ \\\n",
    "$fib(n) = fib(n-2) + fib(n-1)$\n",
    "\n",
    "### Recursive Implementation\n",
    "Instincts may be to implement this as a recursive function as the definition is itself recursive. Let's see what that code would look like."
   ]
  },
  {
   "cell_type": "code",
   "execution_count": 1,
   "metadata": {},
   "outputs": [
    {
     "name": "stdout",
     "output_type": "stream",
     "text": [
      "fib(0) Results:0, Duration 0.00 seconds\n",
      "fib(1) Results:1, Duration 0.00 seconds\n",
      "fib(2) Results:1, Duration 0.00 seconds\n",
      "fib(3) Results:2, Duration 0.00 seconds\n",
      "fib(4) Results:3, Duration 0.00 seconds\n",
      "fib(5) Results:5, Duration 0.00 seconds\n",
      "fib(6) Results:8, Duration 0.00 seconds\n",
      "fib(7) Results:13, Duration 0.00 seconds\n",
      "fib(8) Results:21, Duration 0.00 seconds\n",
      "fib(9) Results:34, Duration 0.00 seconds\n"
     ]
    }
   ],
   "source": [
    "def fib(n):\n",
    "    if n == 0:\n",
    "        return 0\n",
    "    elif n == 1:\n",
    "        return 1\n",
    "    else:\n",
    "        return fib(n-1) + fib(n-2)\n",
    "    \n",
    "import time\n",
    "for i in range(10):\n",
    "    t_start = time.perf_counter()\n",
    "    print(f\"fib({i}) Results:{fib(i)}, Duration {time.perf_counter() - t_start:.2f} seconds\")"
   ]
  },
  {
   "cell_type": "markdown",
   "metadata": {},
   "source": [
    "## Results\n",
    "\n",
    "We can see that this calcualtes the numbers correctly, and relatively quickly.  But the function starts to slow down once we reach numbers **less than 50!!!**"
   ]
  },
  {
   "cell_type": "code",
   "execution_count": 2,
   "metadata": {},
   "outputs": [
    {
     "name": "stdout",
     "output_type": "stream",
     "text": [
      "fib(0) Results:0, Duration 0.00 seconds\n",
      "fib(1) Results:1, Duration 0.00 seconds\n",
      "fib(2) Results:1, Duration 0.00 seconds\n",
      "fib(3) Results:2, Duration 0.00 seconds\n",
      "fib(4) Results:3, Duration 0.00 seconds\n",
      "fib(5) Results:5, Duration 0.00 seconds\n",
      "fib(6) Results:8, Duration 0.00 seconds\n",
      "fib(7) Results:13, Duration 0.00 seconds\n",
      "fib(8) Results:21, Duration 0.00 seconds\n",
      "fib(9) Results:34, Duration 0.00 seconds\n",
      "fib(10) Results:55, Duration 0.00 seconds\n",
      "fib(11) Results:89, Duration 0.00 seconds\n",
      "fib(12) Results:144, Duration 0.00 seconds\n",
      "fib(13) Results:233, Duration 0.00 seconds\n",
      "fib(14) Results:377, Duration 0.00 seconds\n",
      "fib(15) Results:610, Duration 0.00 seconds\n",
      "fib(16) Results:987, Duration 0.00 seconds\n",
      "fib(17) Results:1597, Duration 0.00 seconds\n",
      "fib(18) Results:2584, Duration 0.00 seconds\n",
      "fib(19) Results:4181, Duration 0.00 seconds\n",
      "fib(20) Results:6765, Duration 0.00 seconds\n",
      "fib(21) Results:10946, Duration 0.01 seconds\n",
      "fib(22) Results:17711, Duration 0.01 seconds\n",
      "fib(23) Results:28657, Duration 0.01 seconds\n",
      "fib(24) Results:46368, Duration 0.03 seconds\n",
      "fib(25) Results:75025, Duration 0.04 seconds\n",
      "fib(26) Results:121393, Duration 0.06 seconds\n",
      "fib(27) Results:196418, Duration 0.12 seconds\n",
      "fib(28) Results:317811, Duration 0.18 seconds\n",
      "fib(29) Results:514229, Duration 0.28 seconds\n",
      "fib(30) Results:832040, Duration 0.43 seconds\n",
      "fib(31) Results:1346269, Duration 0.71 seconds\n",
      "fib(32) Results:2178309, Duration 1.12 seconds\n",
      "fib(33) Results:3524578, Duration 1.80 seconds\n",
      "fib(34) Results:5702887, Duration 3.05 seconds\n",
      "fib(35) Results:9227465, Duration 4.86 seconds\n",
      "fib(36) Results:14930352, Duration 7.97 seconds\n",
      "fib(37) Results:24157817, Duration 12.91 seconds\n",
      "fib(38) Results:39088169, Duration 20.49 seconds\n"
     ]
    },
    {
     "ename": "KeyboardInterrupt",
     "evalue": "",
     "output_type": "error",
     "traceback": [
      "\u001B[0;31m---------------------------------------------------------------------------\u001B[0m",
      "\u001B[0;31mKeyboardInterrupt\u001B[0m                         Traceback (most recent call last)",
      "\u001B[0;32m<ipython-input-2-95caa22380e8>\u001B[0m in \u001B[0;36m<module>\u001B[0;34m\u001B[0m\n\u001B[1;32m      1\u001B[0m \u001B[0;32mfor\u001B[0m \u001B[0mi\u001B[0m \u001B[0;32min\u001B[0m \u001B[0mrange\u001B[0m\u001B[0;34m(\u001B[0m\u001B[0;36m40\u001B[0m\u001B[0;34m)\u001B[0m\u001B[0;34m:\u001B[0m\u001B[0;34m\u001B[0m\u001B[0;34m\u001B[0m\u001B[0m\n\u001B[1;32m      2\u001B[0m     \u001B[0mt_start\u001B[0m \u001B[0;34m=\u001B[0m \u001B[0mtime\u001B[0m\u001B[0;34m.\u001B[0m\u001B[0mperf_counter\u001B[0m\u001B[0;34m(\u001B[0m\u001B[0;34m)\u001B[0m\u001B[0;34m\u001B[0m\u001B[0;34m\u001B[0m\u001B[0m\n\u001B[0;32m----> 3\u001B[0;31m     \u001B[0mprint\u001B[0m\u001B[0;34m(\u001B[0m\u001B[0;34mf\"fib({i}) Results:{fib(i)}, Duration {time.perf_counter() - t_start:.2f} seconds\"\u001B[0m\u001B[0;34m)\u001B[0m\u001B[0;34m\u001B[0m\u001B[0;34m\u001B[0m\u001B[0m\n\u001B[0m\u001B[1;32m      4\u001B[0m \u001B[0;34m\u001B[0m\u001B[0m\n",
      "\u001B[0;32m<ipython-input-1-b29b19c5c372>\u001B[0m in \u001B[0;36mfib\u001B[0;34m(n)\u001B[0m\n\u001B[1;32m      5\u001B[0m         \u001B[0;32mreturn\u001B[0m \u001B[0;36m1\u001B[0m\u001B[0;34m\u001B[0m\u001B[0;34m\u001B[0m\u001B[0m\n\u001B[1;32m      6\u001B[0m     \u001B[0;32melse\u001B[0m\u001B[0;34m:\u001B[0m\u001B[0;34m\u001B[0m\u001B[0;34m\u001B[0m\u001B[0m\n\u001B[0;32m----> 7\u001B[0;31m         \u001B[0;32mreturn\u001B[0m \u001B[0mfib\u001B[0m\u001B[0;34m(\u001B[0m\u001B[0mn\u001B[0m\u001B[0;34m-\u001B[0m\u001B[0;36m1\u001B[0m\u001B[0;34m)\u001B[0m \u001B[0;34m+\u001B[0m \u001B[0mfib\u001B[0m\u001B[0;34m(\u001B[0m\u001B[0mn\u001B[0m\u001B[0;34m-\u001B[0m\u001B[0;36m2\u001B[0m\u001B[0;34m)\u001B[0m\u001B[0;34m\u001B[0m\u001B[0;34m\u001B[0m\u001B[0m\n\u001B[0m\u001B[1;32m      8\u001B[0m \u001B[0;34m\u001B[0m\u001B[0m\n\u001B[1;32m      9\u001B[0m \u001B[0;32mimport\u001B[0m \u001B[0mtime\u001B[0m\u001B[0;34m\u001B[0m\u001B[0;34m\u001B[0m\u001B[0m\n",
      "\u001B[0;32m<ipython-input-1-b29b19c5c372>\u001B[0m in \u001B[0;36mfib\u001B[0;34m(n)\u001B[0m\n\u001B[1;32m      5\u001B[0m         \u001B[0;32mreturn\u001B[0m \u001B[0;36m1\u001B[0m\u001B[0;34m\u001B[0m\u001B[0;34m\u001B[0m\u001B[0m\n\u001B[1;32m      6\u001B[0m     \u001B[0;32melse\u001B[0m\u001B[0;34m:\u001B[0m\u001B[0;34m\u001B[0m\u001B[0;34m\u001B[0m\u001B[0m\n\u001B[0;32m----> 7\u001B[0;31m         \u001B[0;32mreturn\u001B[0m \u001B[0mfib\u001B[0m\u001B[0;34m(\u001B[0m\u001B[0mn\u001B[0m\u001B[0;34m-\u001B[0m\u001B[0;36m1\u001B[0m\u001B[0;34m)\u001B[0m \u001B[0;34m+\u001B[0m \u001B[0mfib\u001B[0m\u001B[0;34m(\u001B[0m\u001B[0mn\u001B[0m\u001B[0;34m-\u001B[0m\u001B[0;36m2\u001B[0m\u001B[0;34m)\u001B[0m\u001B[0;34m\u001B[0m\u001B[0;34m\u001B[0m\u001B[0m\n\u001B[0m\u001B[1;32m      8\u001B[0m \u001B[0;34m\u001B[0m\u001B[0m\n\u001B[1;32m      9\u001B[0m \u001B[0;32mimport\u001B[0m \u001B[0mtime\u001B[0m\u001B[0;34m\u001B[0m\u001B[0;34m\u001B[0m\u001B[0m\n",
      "\u001B[0;32m<ipython-input-1-b29b19c5c372>\u001B[0m in \u001B[0;36mfib\u001B[0;34m(n)\u001B[0m\n\u001B[1;32m      5\u001B[0m         \u001B[0;32mreturn\u001B[0m \u001B[0;36m1\u001B[0m\u001B[0;34m\u001B[0m\u001B[0;34m\u001B[0m\u001B[0m\n\u001B[1;32m      6\u001B[0m     \u001B[0;32melse\u001B[0m\u001B[0;34m:\u001B[0m\u001B[0;34m\u001B[0m\u001B[0;34m\u001B[0m\u001B[0m\n\u001B[0;32m----> 7\u001B[0;31m         \u001B[0;32mreturn\u001B[0m \u001B[0mfib\u001B[0m\u001B[0;34m(\u001B[0m\u001B[0mn\u001B[0m\u001B[0;34m-\u001B[0m\u001B[0;36m1\u001B[0m\u001B[0;34m)\u001B[0m \u001B[0;34m+\u001B[0m \u001B[0mfib\u001B[0m\u001B[0;34m(\u001B[0m\u001B[0mn\u001B[0m\u001B[0;34m-\u001B[0m\u001B[0;36m2\u001B[0m\u001B[0;34m)\u001B[0m\u001B[0;34m\u001B[0m\u001B[0;34m\u001B[0m\u001B[0m\n\u001B[0m\u001B[1;32m      8\u001B[0m \u001B[0;34m\u001B[0m\u001B[0m\n\u001B[1;32m      9\u001B[0m \u001B[0;32mimport\u001B[0m \u001B[0mtime\u001B[0m\u001B[0;34m\u001B[0m\u001B[0;34m\u001B[0m\u001B[0m\n",
      "\u001B[0;32m<ipython-input-1-b29b19c5c372>\u001B[0m in \u001B[0;36mfib\u001B[0;34m(n)\u001B[0m\n\u001B[1;32m      5\u001B[0m         \u001B[0;32mreturn\u001B[0m \u001B[0;36m1\u001B[0m\u001B[0;34m\u001B[0m\u001B[0;34m\u001B[0m\u001B[0m\n\u001B[1;32m      6\u001B[0m     \u001B[0;32melse\u001B[0m\u001B[0;34m:\u001B[0m\u001B[0;34m\u001B[0m\u001B[0;34m\u001B[0m\u001B[0m\n\u001B[0;32m----> 7\u001B[0;31m         \u001B[0;32mreturn\u001B[0m \u001B[0mfib\u001B[0m\u001B[0;34m(\u001B[0m\u001B[0mn\u001B[0m\u001B[0;34m-\u001B[0m\u001B[0;36m1\u001B[0m\u001B[0;34m)\u001B[0m \u001B[0;34m+\u001B[0m \u001B[0mfib\u001B[0m\u001B[0;34m(\u001B[0m\u001B[0mn\u001B[0m\u001B[0;34m-\u001B[0m\u001B[0;36m2\u001B[0m\u001B[0;34m)\u001B[0m\u001B[0;34m\u001B[0m\u001B[0;34m\u001B[0m\u001B[0m\n\u001B[0m\u001B[1;32m      8\u001B[0m \u001B[0;34m\u001B[0m\u001B[0m\n\u001B[1;32m      9\u001B[0m \u001B[0;32mimport\u001B[0m \u001B[0mtime\u001B[0m\u001B[0;34m\u001B[0m\u001B[0;34m\u001B[0m\u001B[0m\n",
      "\u001B[0;32m<ipython-input-1-b29b19c5c372>\u001B[0m in \u001B[0;36mfib\u001B[0;34m(n)\u001B[0m\n\u001B[1;32m      5\u001B[0m         \u001B[0;32mreturn\u001B[0m \u001B[0;36m1\u001B[0m\u001B[0;34m\u001B[0m\u001B[0;34m\u001B[0m\u001B[0m\n\u001B[1;32m      6\u001B[0m     \u001B[0;32melse\u001B[0m\u001B[0;34m:\u001B[0m\u001B[0;34m\u001B[0m\u001B[0;34m\u001B[0m\u001B[0m\n\u001B[0;32m----> 7\u001B[0;31m         \u001B[0;32mreturn\u001B[0m \u001B[0mfib\u001B[0m\u001B[0;34m(\u001B[0m\u001B[0mn\u001B[0m\u001B[0;34m-\u001B[0m\u001B[0;36m1\u001B[0m\u001B[0;34m)\u001B[0m \u001B[0;34m+\u001B[0m \u001B[0mfib\u001B[0m\u001B[0;34m(\u001B[0m\u001B[0mn\u001B[0m\u001B[0;34m-\u001B[0m\u001B[0;36m2\u001B[0m\u001B[0;34m)\u001B[0m\u001B[0;34m\u001B[0m\u001B[0;34m\u001B[0m\u001B[0m\n\u001B[0m\u001B[1;32m      8\u001B[0m \u001B[0;34m\u001B[0m\u001B[0m\n\u001B[1;32m      9\u001B[0m \u001B[0;32mimport\u001B[0m \u001B[0mtime\u001B[0m\u001B[0;34m\u001B[0m\u001B[0;34m\u001B[0m\u001B[0m\n",
      "\u001B[0;32m<ipython-input-1-b29b19c5c372>\u001B[0m in \u001B[0;36mfib\u001B[0;34m(n)\u001B[0m\n\u001B[1;32m      5\u001B[0m         \u001B[0;32mreturn\u001B[0m \u001B[0;36m1\u001B[0m\u001B[0;34m\u001B[0m\u001B[0;34m\u001B[0m\u001B[0m\n\u001B[1;32m      6\u001B[0m     \u001B[0;32melse\u001B[0m\u001B[0;34m:\u001B[0m\u001B[0;34m\u001B[0m\u001B[0;34m\u001B[0m\u001B[0m\n\u001B[0;32m----> 7\u001B[0;31m         \u001B[0;32mreturn\u001B[0m \u001B[0mfib\u001B[0m\u001B[0;34m(\u001B[0m\u001B[0mn\u001B[0m\u001B[0;34m-\u001B[0m\u001B[0;36m1\u001B[0m\u001B[0;34m)\u001B[0m \u001B[0;34m+\u001B[0m \u001B[0mfib\u001B[0m\u001B[0;34m(\u001B[0m\u001B[0mn\u001B[0m\u001B[0;34m-\u001B[0m\u001B[0;36m2\u001B[0m\u001B[0;34m)\u001B[0m\u001B[0;34m\u001B[0m\u001B[0;34m\u001B[0m\u001B[0m\n\u001B[0m\u001B[1;32m      8\u001B[0m \u001B[0;34m\u001B[0m\u001B[0m\n\u001B[1;32m      9\u001B[0m \u001B[0;32mimport\u001B[0m \u001B[0mtime\u001B[0m\u001B[0;34m\u001B[0m\u001B[0;34m\u001B[0m\u001B[0m\n",
      "\u001B[0;32m<ipython-input-1-b29b19c5c372>\u001B[0m in \u001B[0;36mfib\u001B[0;34m(n)\u001B[0m\n\u001B[1;32m      5\u001B[0m         \u001B[0;32mreturn\u001B[0m \u001B[0;36m1\u001B[0m\u001B[0;34m\u001B[0m\u001B[0;34m\u001B[0m\u001B[0m\n\u001B[1;32m      6\u001B[0m     \u001B[0;32melse\u001B[0m\u001B[0;34m:\u001B[0m\u001B[0;34m\u001B[0m\u001B[0;34m\u001B[0m\u001B[0m\n\u001B[0;32m----> 7\u001B[0;31m         \u001B[0;32mreturn\u001B[0m \u001B[0mfib\u001B[0m\u001B[0;34m(\u001B[0m\u001B[0mn\u001B[0m\u001B[0;34m-\u001B[0m\u001B[0;36m1\u001B[0m\u001B[0;34m)\u001B[0m \u001B[0;34m+\u001B[0m \u001B[0mfib\u001B[0m\u001B[0;34m(\u001B[0m\u001B[0mn\u001B[0m\u001B[0;34m-\u001B[0m\u001B[0;36m2\u001B[0m\u001B[0;34m)\u001B[0m\u001B[0;34m\u001B[0m\u001B[0;34m\u001B[0m\u001B[0m\n\u001B[0m\u001B[1;32m      8\u001B[0m \u001B[0;34m\u001B[0m\u001B[0m\n\u001B[1;32m      9\u001B[0m \u001B[0;32mimport\u001B[0m \u001B[0mtime\u001B[0m\u001B[0;34m\u001B[0m\u001B[0;34m\u001B[0m\u001B[0m\n",
      "\u001B[0;32m<ipython-input-1-b29b19c5c372>\u001B[0m in \u001B[0;36mfib\u001B[0;34m(n)\u001B[0m\n\u001B[1;32m      5\u001B[0m         \u001B[0;32mreturn\u001B[0m \u001B[0;36m1\u001B[0m\u001B[0;34m\u001B[0m\u001B[0;34m\u001B[0m\u001B[0m\n\u001B[1;32m      6\u001B[0m     \u001B[0;32melse\u001B[0m\u001B[0;34m:\u001B[0m\u001B[0;34m\u001B[0m\u001B[0;34m\u001B[0m\u001B[0m\n\u001B[0;32m----> 7\u001B[0;31m         \u001B[0;32mreturn\u001B[0m \u001B[0mfib\u001B[0m\u001B[0;34m(\u001B[0m\u001B[0mn\u001B[0m\u001B[0;34m-\u001B[0m\u001B[0;36m1\u001B[0m\u001B[0;34m)\u001B[0m \u001B[0;34m+\u001B[0m \u001B[0mfib\u001B[0m\u001B[0;34m(\u001B[0m\u001B[0mn\u001B[0m\u001B[0;34m-\u001B[0m\u001B[0;36m2\u001B[0m\u001B[0;34m)\u001B[0m\u001B[0;34m\u001B[0m\u001B[0;34m\u001B[0m\u001B[0m\n\u001B[0m\u001B[1;32m      8\u001B[0m \u001B[0;34m\u001B[0m\u001B[0m\n\u001B[1;32m      9\u001B[0m \u001B[0;32mimport\u001B[0m \u001B[0mtime\u001B[0m\u001B[0;34m\u001B[0m\u001B[0;34m\u001B[0m\u001B[0m\n",
      "\u001B[0;32m<ipython-input-1-b29b19c5c372>\u001B[0m in \u001B[0;36mfib\u001B[0;34m(n)\u001B[0m\n\u001B[1;32m      5\u001B[0m         \u001B[0;32mreturn\u001B[0m \u001B[0;36m1\u001B[0m\u001B[0;34m\u001B[0m\u001B[0;34m\u001B[0m\u001B[0m\n\u001B[1;32m      6\u001B[0m     \u001B[0;32melse\u001B[0m\u001B[0;34m:\u001B[0m\u001B[0;34m\u001B[0m\u001B[0;34m\u001B[0m\u001B[0m\n\u001B[0;32m----> 7\u001B[0;31m         \u001B[0;32mreturn\u001B[0m \u001B[0mfib\u001B[0m\u001B[0;34m(\u001B[0m\u001B[0mn\u001B[0m\u001B[0;34m-\u001B[0m\u001B[0;36m1\u001B[0m\u001B[0;34m)\u001B[0m \u001B[0;34m+\u001B[0m \u001B[0mfib\u001B[0m\u001B[0;34m(\u001B[0m\u001B[0mn\u001B[0m\u001B[0;34m-\u001B[0m\u001B[0;36m2\u001B[0m\u001B[0;34m)\u001B[0m\u001B[0;34m\u001B[0m\u001B[0;34m\u001B[0m\u001B[0m\n\u001B[0m\u001B[1;32m      8\u001B[0m \u001B[0;34m\u001B[0m\u001B[0m\n\u001B[1;32m      9\u001B[0m \u001B[0;32mimport\u001B[0m \u001B[0mtime\u001B[0m\u001B[0;34m\u001B[0m\u001B[0;34m\u001B[0m\u001B[0m\n",
      "\u001B[0;32m<ipython-input-1-b29b19c5c372>\u001B[0m in \u001B[0;36mfib\u001B[0;34m(n)\u001B[0m\n\u001B[1;32m      5\u001B[0m         \u001B[0;32mreturn\u001B[0m \u001B[0;36m1\u001B[0m\u001B[0;34m\u001B[0m\u001B[0;34m\u001B[0m\u001B[0m\n\u001B[1;32m      6\u001B[0m     \u001B[0;32melse\u001B[0m\u001B[0;34m:\u001B[0m\u001B[0;34m\u001B[0m\u001B[0;34m\u001B[0m\u001B[0m\n\u001B[0;32m----> 7\u001B[0;31m         \u001B[0;32mreturn\u001B[0m \u001B[0mfib\u001B[0m\u001B[0;34m(\u001B[0m\u001B[0mn\u001B[0m\u001B[0;34m-\u001B[0m\u001B[0;36m1\u001B[0m\u001B[0;34m)\u001B[0m \u001B[0;34m+\u001B[0m \u001B[0mfib\u001B[0m\u001B[0;34m(\u001B[0m\u001B[0mn\u001B[0m\u001B[0;34m-\u001B[0m\u001B[0;36m2\u001B[0m\u001B[0;34m)\u001B[0m\u001B[0;34m\u001B[0m\u001B[0;34m\u001B[0m\u001B[0m\n\u001B[0m\u001B[1;32m      8\u001B[0m \u001B[0;34m\u001B[0m\u001B[0m\n\u001B[1;32m      9\u001B[0m \u001B[0;32mimport\u001B[0m \u001B[0mtime\u001B[0m\u001B[0;34m\u001B[0m\u001B[0;34m\u001B[0m\u001B[0m\n",
      "\u001B[0;32m<ipython-input-1-b29b19c5c372>\u001B[0m in \u001B[0;36mfib\u001B[0;34m(n)\u001B[0m\n\u001B[1;32m      5\u001B[0m         \u001B[0;32mreturn\u001B[0m \u001B[0;36m1\u001B[0m\u001B[0;34m\u001B[0m\u001B[0;34m\u001B[0m\u001B[0m\n\u001B[1;32m      6\u001B[0m     \u001B[0;32melse\u001B[0m\u001B[0;34m:\u001B[0m\u001B[0;34m\u001B[0m\u001B[0;34m\u001B[0m\u001B[0m\n\u001B[0;32m----> 7\u001B[0;31m         \u001B[0;32mreturn\u001B[0m \u001B[0mfib\u001B[0m\u001B[0;34m(\u001B[0m\u001B[0mn\u001B[0m\u001B[0;34m-\u001B[0m\u001B[0;36m1\u001B[0m\u001B[0;34m)\u001B[0m \u001B[0;34m+\u001B[0m \u001B[0mfib\u001B[0m\u001B[0;34m(\u001B[0m\u001B[0mn\u001B[0m\u001B[0;34m-\u001B[0m\u001B[0;36m2\u001B[0m\u001B[0;34m)\u001B[0m\u001B[0;34m\u001B[0m\u001B[0;34m\u001B[0m\u001B[0m\n\u001B[0m\u001B[1;32m      8\u001B[0m \u001B[0;34m\u001B[0m\u001B[0m\n\u001B[1;32m      9\u001B[0m \u001B[0;32mimport\u001B[0m \u001B[0mtime\u001B[0m\u001B[0;34m\u001B[0m\u001B[0;34m\u001B[0m\u001B[0m\n",
      "\u001B[0;32m<ipython-input-1-b29b19c5c372>\u001B[0m in \u001B[0;36mfib\u001B[0;34m(n)\u001B[0m\n\u001B[1;32m      5\u001B[0m         \u001B[0;32mreturn\u001B[0m \u001B[0;36m1\u001B[0m\u001B[0;34m\u001B[0m\u001B[0;34m\u001B[0m\u001B[0m\n\u001B[1;32m      6\u001B[0m     \u001B[0;32melse\u001B[0m\u001B[0;34m:\u001B[0m\u001B[0;34m\u001B[0m\u001B[0;34m\u001B[0m\u001B[0m\n\u001B[0;32m----> 7\u001B[0;31m         \u001B[0;32mreturn\u001B[0m \u001B[0mfib\u001B[0m\u001B[0;34m(\u001B[0m\u001B[0mn\u001B[0m\u001B[0;34m-\u001B[0m\u001B[0;36m1\u001B[0m\u001B[0;34m)\u001B[0m \u001B[0;34m+\u001B[0m \u001B[0mfib\u001B[0m\u001B[0;34m(\u001B[0m\u001B[0mn\u001B[0m\u001B[0;34m-\u001B[0m\u001B[0;36m2\u001B[0m\u001B[0;34m)\u001B[0m\u001B[0;34m\u001B[0m\u001B[0;34m\u001B[0m\u001B[0m\n\u001B[0m\u001B[1;32m      8\u001B[0m \u001B[0;34m\u001B[0m\u001B[0m\n\u001B[1;32m      9\u001B[0m \u001B[0;32mimport\u001B[0m \u001B[0mtime\u001B[0m\u001B[0;34m\u001B[0m\u001B[0;34m\u001B[0m\u001B[0m\n",
      "\u001B[0;32m<ipython-input-1-b29b19c5c372>\u001B[0m in \u001B[0;36mfib\u001B[0;34m(n)\u001B[0m\n\u001B[1;32m      5\u001B[0m         \u001B[0;32mreturn\u001B[0m \u001B[0;36m1\u001B[0m\u001B[0;34m\u001B[0m\u001B[0;34m\u001B[0m\u001B[0m\n\u001B[1;32m      6\u001B[0m     \u001B[0;32melse\u001B[0m\u001B[0;34m:\u001B[0m\u001B[0;34m\u001B[0m\u001B[0;34m\u001B[0m\u001B[0m\n\u001B[0;32m----> 7\u001B[0;31m         \u001B[0;32mreturn\u001B[0m \u001B[0mfib\u001B[0m\u001B[0;34m(\u001B[0m\u001B[0mn\u001B[0m\u001B[0;34m-\u001B[0m\u001B[0;36m1\u001B[0m\u001B[0;34m)\u001B[0m \u001B[0;34m+\u001B[0m \u001B[0mfib\u001B[0m\u001B[0;34m(\u001B[0m\u001B[0mn\u001B[0m\u001B[0;34m-\u001B[0m\u001B[0;36m2\u001B[0m\u001B[0;34m)\u001B[0m\u001B[0;34m\u001B[0m\u001B[0;34m\u001B[0m\u001B[0m\n\u001B[0m\u001B[1;32m      8\u001B[0m \u001B[0;34m\u001B[0m\u001B[0m\n\u001B[1;32m      9\u001B[0m \u001B[0;32mimport\u001B[0m \u001B[0mtime\u001B[0m\u001B[0;34m\u001B[0m\u001B[0;34m\u001B[0m\u001B[0m\n",
      "\u001B[0;32m<ipython-input-1-b29b19c5c372>\u001B[0m in \u001B[0;36mfib\u001B[0;34m(n)\u001B[0m\n\u001B[1;32m      5\u001B[0m         \u001B[0;32mreturn\u001B[0m \u001B[0;36m1\u001B[0m\u001B[0;34m\u001B[0m\u001B[0;34m\u001B[0m\u001B[0m\n\u001B[1;32m      6\u001B[0m     \u001B[0;32melse\u001B[0m\u001B[0;34m:\u001B[0m\u001B[0;34m\u001B[0m\u001B[0;34m\u001B[0m\u001B[0m\n\u001B[0;32m----> 7\u001B[0;31m         \u001B[0;32mreturn\u001B[0m \u001B[0mfib\u001B[0m\u001B[0;34m(\u001B[0m\u001B[0mn\u001B[0m\u001B[0;34m-\u001B[0m\u001B[0;36m1\u001B[0m\u001B[0;34m)\u001B[0m \u001B[0;34m+\u001B[0m \u001B[0mfib\u001B[0m\u001B[0;34m(\u001B[0m\u001B[0mn\u001B[0m\u001B[0;34m-\u001B[0m\u001B[0;36m2\u001B[0m\u001B[0;34m)\u001B[0m\u001B[0;34m\u001B[0m\u001B[0;34m\u001B[0m\u001B[0m\n\u001B[0m\u001B[1;32m      8\u001B[0m \u001B[0;34m\u001B[0m\u001B[0m\n\u001B[1;32m      9\u001B[0m \u001B[0;32mimport\u001B[0m \u001B[0mtime\u001B[0m\u001B[0;34m\u001B[0m\u001B[0;34m\u001B[0m\u001B[0m\n",
      "\u001B[0;32m<ipython-input-1-b29b19c5c372>\u001B[0m in \u001B[0;36mfib\u001B[0;34m(n)\u001B[0m\n\u001B[1;32m      5\u001B[0m         \u001B[0;32mreturn\u001B[0m \u001B[0;36m1\u001B[0m\u001B[0;34m\u001B[0m\u001B[0;34m\u001B[0m\u001B[0m\n\u001B[1;32m      6\u001B[0m     \u001B[0;32melse\u001B[0m\u001B[0;34m:\u001B[0m\u001B[0;34m\u001B[0m\u001B[0;34m\u001B[0m\u001B[0m\n\u001B[0;32m----> 7\u001B[0;31m         \u001B[0;32mreturn\u001B[0m \u001B[0mfib\u001B[0m\u001B[0;34m(\u001B[0m\u001B[0mn\u001B[0m\u001B[0;34m-\u001B[0m\u001B[0;36m1\u001B[0m\u001B[0;34m)\u001B[0m \u001B[0;34m+\u001B[0m \u001B[0mfib\u001B[0m\u001B[0;34m(\u001B[0m\u001B[0mn\u001B[0m\u001B[0;34m-\u001B[0m\u001B[0;36m2\u001B[0m\u001B[0;34m)\u001B[0m\u001B[0;34m\u001B[0m\u001B[0;34m\u001B[0m\u001B[0m\n\u001B[0m\u001B[1;32m      8\u001B[0m \u001B[0;34m\u001B[0m\u001B[0m\n\u001B[1;32m      9\u001B[0m \u001B[0;32mimport\u001B[0m \u001B[0mtime\u001B[0m\u001B[0;34m\u001B[0m\u001B[0;34m\u001B[0m\u001B[0m\n",
      "\u001B[0;32m<ipython-input-1-b29b19c5c372>\u001B[0m in \u001B[0;36mfib\u001B[0;34m(n)\u001B[0m\n\u001B[1;32m      5\u001B[0m         \u001B[0;32mreturn\u001B[0m \u001B[0;36m1\u001B[0m\u001B[0;34m\u001B[0m\u001B[0;34m\u001B[0m\u001B[0m\n\u001B[1;32m      6\u001B[0m     \u001B[0;32melse\u001B[0m\u001B[0;34m:\u001B[0m\u001B[0;34m\u001B[0m\u001B[0;34m\u001B[0m\u001B[0m\n\u001B[0;32m----> 7\u001B[0;31m         \u001B[0;32mreturn\u001B[0m \u001B[0mfib\u001B[0m\u001B[0;34m(\u001B[0m\u001B[0mn\u001B[0m\u001B[0;34m-\u001B[0m\u001B[0;36m1\u001B[0m\u001B[0;34m)\u001B[0m \u001B[0;34m+\u001B[0m \u001B[0mfib\u001B[0m\u001B[0;34m(\u001B[0m\u001B[0mn\u001B[0m\u001B[0;34m-\u001B[0m\u001B[0;36m2\u001B[0m\u001B[0;34m)\u001B[0m\u001B[0;34m\u001B[0m\u001B[0;34m\u001B[0m\u001B[0m\n\u001B[0m\u001B[1;32m      8\u001B[0m \u001B[0;34m\u001B[0m\u001B[0m\n\u001B[1;32m      9\u001B[0m \u001B[0;32mimport\u001B[0m \u001B[0mtime\u001B[0m\u001B[0;34m\u001B[0m\u001B[0;34m\u001B[0m\u001B[0m\n",
      "\u001B[0;32m<ipython-input-1-b29b19c5c372>\u001B[0m in \u001B[0;36mfib\u001B[0;34m(n)\u001B[0m\n\u001B[1;32m      5\u001B[0m         \u001B[0;32mreturn\u001B[0m \u001B[0;36m1\u001B[0m\u001B[0;34m\u001B[0m\u001B[0;34m\u001B[0m\u001B[0m\n\u001B[1;32m      6\u001B[0m     \u001B[0;32melse\u001B[0m\u001B[0;34m:\u001B[0m\u001B[0;34m\u001B[0m\u001B[0;34m\u001B[0m\u001B[0m\n\u001B[0;32m----> 7\u001B[0;31m         \u001B[0;32mreturn\u001B[0m \u001B[0mfib\u001B[0m\u001B[0;34m(\u001B[0m\u001B[0mn\u001B[0m\u001B[0;34m-\u001B[0m\u001B[0;36m1\u001B[0m\u001B[0;34m)\u001B[0m \u001B[0;34m+\u001B[0m \u001B[0mfib\u001B[0m\u001B[0;34m(\u001B[0m\u001B[0mn\u001B[0m\u001B[0;34m-\u001B[0m\u001B[0;36m2\u001B[0m\u001B[0;34m)\u001B[0m\u001B[0;34m\u001B[0m\u001B[0;34m\u001B[0m\u001B[0m\n\u001B[0m\u001B[1;32m      8\u001B[0m \u001B[0;34m\u001B[0m\u001B[0m\n\u001B[1;32m      9\u001B[0m \u001B[0;32mimport\u001B[0m \u001B[0mtime\u001B[0m\u001B[0;34m\u001B[0m\u001B[0;34m\u001B[0m\u001B[0m\n",
      "\u001B[0;32m<ipython-input-1-b29b19c5c372>\u001B[0m in \u001B[0;36mfib\u001B[0;34m(n)\u001B[0m\n\u001B[1;32m      5\u001B[0m         \u001B[0;32mreturn\u001B[0m \u001B[0;36m1\u001B[0m\u001B[0;34m\u001B[0m\u001B[0;34m\u001B[0m\u001B[0m\n\u001B[1;32m      6\u001B[0m     \u001B[0;32melse\u001B[0m\u001B[0;34m:\u001B[0m\u001B[0;34m\u001B[0m\u001B[0;34m\u001B[0m\u001B[0m\n\u001B[0;32m----> 7\u001B[0;31m         \u001B[0;32mreturn\u001B[0m \u001B[0mfib\u001B[0m\u001B[0;34m(\u001B[0m\u001B[0mn\u001B[0m\u001B[0;34m-\u001B[0m\u001B[0;36m1\u001B[0m\u001B[0;34m)\u001B[0m \u001B[0;34m+\u001B[0m \u001B[0mfib\u001B[0m\u001B[0;34m(\u001B[0m\u001B[0mn\u001B[0m\u001B[0;34m-\u001B[0m\u001B[0;36m2\u001B[0m\u001B[0;34m)\u001B[0m\u001B[0;34m\u001B[0m\u001B[0;34m\u001B[0m\u001B[0m\n\u001B[0m\u001B[1;32m      8\u001B[0m \u001B[0;34m\u001B[0m\u001B[0m\n\u001B[1;32m      9\u001B[0m \u001B[0;32mimport\u001B[0m \u001B[0mtime\u001B[0m\u001B[0;34m\u001B[0m\u001B[0;34m\u001B[0m\u001B[0m\n",
      "\u001B[0;32m<ipython-input-1-b29b19c5c372>\u001B[0m in \u001B[0;36mfib\u001B[0;34m(n)\u001B[0m\n\u001B[1;32m      5\u001B[0m         \u001B[0;32mreturn\u001B[0m \u001B[0;36m1\u001B[0m\u001B[0;34m\u001B[0m\u001B[0;34m\u001B[0m\u001B[0m\n\u001B[1;32m      6\u001B[0m     \u001B[0;32melse\u001B[0m\u001B[0;34m:\u001B[0m\u001B[0;34m\u001B[0m\u001B[0;34m\u001B[0m\u001B[0m\n\u001B[0;32m----> 7\u001B[0;31m         \u001B[0;32mreturn\u001B[0m \u001B[0mfib\u001B[0m\u001B[0;34m(\u001B[0m\u001B[0mn\u001B[0m\u001B[0;34m-\u001B[0m\u001B[0;36m1\u001B[0m\u001B[0;34m)\u001B[0m \u001B[0;34m+\u001B[0m \u001B[0mfib\u001B[0m\u001B[0;34m(\u001B[0m\u001B[0mn\u001B[0m\u001B[0;34m-\u001B[0m\u001B[0;36m2\u001B[0m\u001B[0;34m)\u001B[0m\u001B[0;34m\u001B[0m\u001B[0;34m\u001B[0m\u001B[0m\n\u001B[0m\u001B[1;32m      8\u001B[0m \u001B[0;34m\u001B[0m\u001B[0m\n\u001B[1;32m      9\u001B[0m \u001B[0;32mimport\u001B[0m \u001B[0mtime\u001B[0m\u001B[0;34m\u001B[0m\u001B[0;34m\u001B[0m\u001B[0m\n",
      "\u001B[0;32m<ipython-input-1-b29b19c5c372>\u001B[0m in \u001B[0;36mfib\u001B[0;34m(n)\u001B[0m\n\u001B[1;32m      5\u001B[0m         \u001B[0;32mreturn\u001B[0m \u001B[0;36m1\u001B[0m\u001B[0;34m\u001B[0m\u001B[0;34m\u001B[0m\u001B[0m\n\u001B[1;32m      6\u001B[0m     \u001B[0;32melse\u001B[0m\u001B[0;34m:\u001B[0m\u001B[0;34m\u001B[0m\u001B[0;34m\u001B[0m\u001B[0m\n\u001B[0;32m----> 7\u001B[0;31m         \u001B[0;32mreturn\u001B[0m \u001B[0mfib\u001B[0m\u001B[0;34m(\u001B[0m\u001B[0mn\u001B[0m\u001B[0;34m-\u001B[0m\u001B[0;36m1\u001B[0m\u001B[0;34m)\u001B[0m \u001B[0;34m+\u001B[0m \u001B[0mfib\u001B[0m\u001B[0;34m(\u001B[0m\u001B[0mn\u001B[0m\u001B[0;34m-\u001B[0m\u001B[0;36m2\u001B[0m\u001B[0;34m)\u001B[0m\u001B[0;34m\u001B[0m\u001B[0;34m\u001B[0m\u001B[0m\n\u001B[0m\u001B[1;32m      8\u001B[0m \u001B[0;34m\u001B[0m\u001B[0m\n\u001B[1;32m      9\u001B[0m \u001B[0;32mimport\u001B[0m \u001B[0mtime\u001B[0m\u001B[0;34m\u001B[0m\u001B[0;34m\u001B[0m\u001B[0m\n",
      "\u001B[0;32m<ipython-input-1-b29b19c5c372>\u001B[0m in \u001B[0;36mfib\u001B[0;34m(n)\u001B[0m\n\u001B[1;32m      5\u001B[0m         \u001B[0;32mreturn\u001B[0m \u001B[0;36m1\u001B[0m\u001B[0;34m\u001B[0m\u001B[0;34m\u001B[0m\u001B[0m\n\u001B[1;32m      6\u001B[0m     \u001B[0;32melse\u001B[0m\u001B[0;34m:\u001B[0m\u001B[0;34m\u001B[0m\u001B[0;34m\u001B[0m\u001B[0m\n\u001B[0;32m----> 7\u001B[0;31m         \u001B[0;32mreturn\u001B[0m \u001B[0mfib\u001B[0m\u001B[0;34m(\u001B[0m\u001B[0mn\u001B[0m\u001B[0;34m-\u001B[0m\u001B[0;36m1\u001B[0m\u001B[0;34m)\u001B[0m \u001B[0;34m+\u001B[0m \u001B[0mfib\u001B[0m\u001B[0;34m(\u001B[0m\u001B[0mn\u001B[0m\u001B[0;34m-\u001B[0m\u001B[0;36m2\u001B[0m\u001B[0;34m)\u001B[0m\u001B[0;34m\u001B[0m\u001B[0;34m\u001B[0m\u001B[0m\n\u001B[0m\u001B[1;32m      8\u001B[0m \u001B[0;34m\u001B[0m\u001B[0m\n\u001B[1;32m      9\u001B[0m \u001B[0;32mimport\u001B[0m \u001B[0mtime\u001B[0m\u001B[0;34m\u001B[0m\u001B[0;34m\u001B[0m\u001B[0m\n",
      "\u001B[0;32m<ipython-input-1-b29b19c5c372>\u001B[0m in \u001B[0;36mfib\u001B[0;34m(n)\u001B[0m\n\u001B[1;32m      5\u001B[0m         \u001B[0;32mreturn\u001B[0m \u001B[0;36m1\u001B[0m\u001B[0;34m\u001B[0m\u001B[0;34m\u001B[0m\u001B[0m\n\u001B[1;32m      6\u001B[0m     \u001B[0;32melse\u001B[0m\u001B[0;34m:\u001B[0m\u001B[0;34m\u001B[0m\u001B[0;34m\u001B[0m\u001B[0m\n\u001B[0;32m----> 7\u001B[0;31m         \u001B[0;32mreturn\u001B[0m \u001B[0mfib\u001B[0m\u001B[0;34m(\u001B[0m\u001B[0mn\u001B[0m\u001B[0;34m-\u001B[0m\u001B[0;36m1\u001B[0m\u001B[0;34m)\u001B[0m \u001B[0;34m+\u001B[0m \u001B[0mfib\u001B[0m\u001B[0;34m(\u001B[0m\u001B[0mn\u001B[0m\u001B[0;34m-\u001B[0m\u001B[0;36m2\u001B[0m\u001B[0;34m)\u001B[0m\u001B[0;34m\u001B[0m\u001B[0;34m\u001B[0m\u001B[0m\n\u001B[0m\u001B[1;32m      8\u001B[0m \u001B[0;34m\u001B[0m\u001B[0m\n\u001B[1;32m      9\u001B[0m \u001B[0;32mimport\u001B[0m \u001B[0mtime\u001B[0m\u001B[0;34m\u001B[0m\u001B[0;34m\u001B[0m\u001B[0m\n",
      "\u001B[0;32m<ipython-input-1-b29b19c5c372>\u001B[0m in \u001B[0;36mfib\u001B[0;34m(n)\u001B[0m\n\u001B[1;32m      5\u001B[0m         \u001B[0;32mreturn\u001B[0m \u001B[0;36m1\u001B[0m\u001B[0;34m\u001B[0m\u001B[0;34m\u001B[0m\u001B[0m\n\u001B[1;32m      6\u001B[0m     \u001B[0;32melse\u001B[0m\u001B[0;34m:\u001B[0m\u001B[0;34m\u001B[0m\u001B[0;34m\u001B[0m\u001B[0m\n\u001B[0;32m----> 7\u001B[0;31m         \u001B[0;32mreturn\u001B[0m \u001B[0mfib\u001B[0m\u001B[0;34m(\u001B[0m\u001B[0mn\u001B[0m\u001B[0;34m-\u001B[0m\u001B[0;36m1\u001B[0m\u001B[0;34m)\u001B[0m \u001B[0;34m+\u001B[0m \u001B[0mfib\u001B[0m\u001B[0;34m(\u001B[0m\u001B[0mn\u001B[0m\u001B[0;34m-\u001B[0m\u001B[0;36m2\u001B[0m\u001B[0;34m)\u001B[0m\u001B[0;34m\u001B[0m\u001B[0;34m\u001B[0m\u001B[0m\n\u001B[0m\u001B[1;32m      8\u001B[0m \u001B[0;34m\u001B[0m\u001B[0m\n\u001B[1;32m      9\u001B[0m \u001B[0;32mimport\u001B[0m \u001B[0mtime\u001B[0m\u001B[0;34m\u001B[0m\u001B[0;34m\u001B[0m\u001B[0m\n",
      "\u001B[0;32m<ipython-input-1-b29b19c5c372>\u001B[0m in \u001B[0;36mfib\u001B[0;34m(n)\u001B[0m\n\u001B[1;32m      5\u001B[0m         \u001B[0;32mreturn\u001B[0m \u001B[0;36m1\u001B[0m\u001B[0;34m\u001B[0m\u001B[0;34m\u001B[0m\u001B[0m\n\u001B[1;32m      6\u001B[0m     \u001B[0;32melse\u001B[0m\u001B[0;34m:\u001B[0m\u001B[0;34m\u001B[0m\u001B[0;34m\u001B[0m\u001B[0m\n\u001B[0;32m----> 7\u001B[0;31m         \u001B[0;32mreturn\u001B[0m \u001B[0mfib\u001B[0m\u001B[0;34m(\u001B[0m\u001B[0mn\u001B[0m\u001B[0;34m-\u001B[0m\u001B[0;36m1\u001B[0m\u001B[0;34m)\u001B[0m \u001B[0;34m+\u001B[0m \u001B[0mfib\u001B[0m\u001B[0;34m(\u001B[0m\u001B[0mn\u001B[0m\u001B[0;34m-\u001B[0m\u001B[0;36m2\u001B[0m\u001B[0;34m)\u001B[0m\u001B[0;34m\u001B[0m\u001B[0;34m\u001B[0m\u001B[0m\n\u001B[0m\u001B[1;32m      8\u001B[0m \u001B[0;34m\u001B[0m\u001B[0m\n\u001B[1;32m      9\u001B[0m \u001B[0;32mimport\u001B[0m \u001B[0mtime\u001B[0m\u001B[0;34m\u001B[0m\u001B[0;34m\u001B[0m\u001B[0m\n",
      "\u001B[0;32m<ipython-input-1-b29b19c5c372>\u001B[0m in \u001B[0;36mfib\u001B[0;34m(n)\u001B[0m\n\u001B[1;32m      5\u001B[0m         \u001B[0;32mreturn\u001B[0m \u001B[0;36m1\u001B[0m\u001B[0;34m\u001B[0m\u001B[0;34m\u001B[0m\u001B[0m\n\u001B[1;32m      6\u001B[0m     \u001B[0;32melse\u001B[0m\u001B[0;34m:\u001B[0m\u001B[0;34m\u001B[0m\u001B[0;34m\u001B[0m\u001B[0m\n\u001B[0;32m----> 7\u001B[0;31m         \u001B[0;32mreturn\u001B[0m \u001B[0mfib\u001B[0m\u001B[0;34m(\u001B[0m\u001B[0mn\u001B[0m\u001B[0;34m-\u001B[0m\u001B[0;36m1\u001B[0m\u001B[0;34m)\u001B[0m \u001B[0;34m+\u001B[0m \u001B[0mfib\u001B[0m\u001B[0;34m(\u001B[0m\u001B[0mn\u001B[0m\u001B[0;34m-\u001B[0m\u001B[0;36m2\u001B[0m\u001B[0;34m)\u001B[0m\u001B[0;34m\u001B[0m\u001B[0;34m\u001B[0m\u001B[0m\n\u001B[0m\u001B[1;32m      8\u001B[0m \u001B[0;34m\u001B[0m\u001B[0m\n\u001B[1;32m      9\u001B[0m \u001B[0;32mimport\u001B[0m \u001B[0mtime\u001B[0m\u001B[0;34m\u001B[0m\u001B[0;34m\u001B[0m\u001B[0m\n",
      "\u001B[0;32m<ipython-input-1-b29b19c5c372>\u001B[0m in \u001B[0;36mfib\u001B[0;34m(n)\u001B[0m\n\u001B[1;32m      5\u001B[0m         \u001B[0;32mreturn\u001B[0m \u001B[0;36m1\u001B[0m\u001B[0;34m\u001B[0m\u001B[0;34m\u001B[0m\u001B[0m\n\u001B[1;32m      6\u001B[0m     \u001B[0;32melse\u001B[0m\u001B[0;34m:\u001B[0m\u001B[0;34m\u001B[0m\u001B[0;34m\u001B[0m\u001B[0m\n\u001B[0;32m----> 7\u001B[0;31m         \u001B[0;32mreturn\u001B[0m \u001B[0mfib\u001B[0m\u001B[0;34m(\u001B[0m\u001B[0mn\u001B[0m\u001B[0;34m-\u001B[0m\u001B[0;36m1\u001B[0m\u001B[0;34m)\u001B[0m \u001B[0;34m+\u001B[0m \u001B[0mfib\u001B[0m\u001B[0;34m(\u001B[0m\u001B[0mn\u001B[0m\u001B[0;34m-\u001B[0m\u001B[0;36m2\u001B[0m\u001B[0;34m)\u001B[0m\u001B[0;34m\u001B[0m\u001B[0;34m\u001B[0m\u001B[0m\n\u001B[0m\u001B[1;32m      8\u001B[0m \u001B[0;34m\u001B[0m\u001B[0m\n\u001B[1;32m      9\u001B[0m \u001B[0;32mimport\u001B[0m \u001B[0mtime\u001B[0m\u001B[0;34m\u001B[0m\u001B[0;34m\u001B[0m\u001B[0m\n",
      "\u001B[0;31mKeyboardInterrupt\u001B[0m: "
     ]
    }
   ],
   "source": [
    "\n",
    "for i in range(40):\n",
    "    t_start = time.perf_counter()\n",
    "    print(f\"fib({i}) Results:{fib(i)}, Duration {time.perf_counter() - t_start:.2f} seconds\")"
   ]
  },
  {
   "cell_type": "markdown",
   "metadata": {},
   "source": [
    "## (Basic) Dynamic Programming to the rescue\n",
    "\n",
    "This slow down is because the number of recursive calls to solve this problem is exponential:  ~$O(2^n)$  \n",
    "\n",
    "This is due to the fact that each resursive call is having to solve the same problem over and over again.   We can do better by simply storing the values in an array of the previously calculated results."
   ]
  },
  {
   "cell_type": "code",
   "execution_count": null,
   "metadata": {},
   "outputs": [],
   "source": [
    "def fib_dp(n):\n",
    "    if n < 2:\n",
    "        return n\n",
    "    solution = [0] * (n+1)\n",
    "    solution[0] = 0\n",
    "    solution[1] = 1\n",
    "    for i in range(2,n+1):\n",
    "        solution[i] = solution[i-1] + solution[i-2]\n",
    "\n",
    "    return solution[-1]\n",
    "\n",
    "import time\n",
    "for i in range(500):\n",
    "    t_start = time.perf_counter()\n",
    "    print(f\"fib_dp({i}) Results:{fib_dp(i)}, Duration {time.perf_counter() - t_start:.2f} seconds\")"
   ]
  },
  {
   "cell_type": "markdown",
   "metadata": {},
   "source": [
    "## Dynamic Programming Implementation Results\n",
    "You can see we just calculated 500 values in a fraction of the time it took to calculate even one tenth of that using resursion.   This isn't to say that all recursion is bad, just when you have to solve the same problem over and over and over again.\n",
    "\n",
    "## Faster Implementation?\n",
    "Yes, there is a closed form of Fib that can be sovled in constant time.  It uses irrational numbers which can cause headaches with our finite computer processors (can't wait for infinite memory!) so for some values the rounding can cause issues.  There are solutions to that, but we won't going to cover those in this notebook.\n",
    "\n",
    "## A look into what is happening...\n",
    "It should be pretty clear with this toy example but to make things clear, we will take a look at the \"solution\" variable at each step and show what it returns at the end.  "
   ]
  },
  {
   "cell_type": "code",
   "execution_count": null,
   "metadata": {
    "pycharm": {
     "is_executing": true
    }
   },
   "outputs": [],
   "source": [
    "def fib_dp(n):\n",
    "    if n < 2:\n",
    "        return n\n",
    "    solution = [0] * (n+1)\n",
    "    solution[0] = 0\n",
    "    solution[1] = 1\n",
    "    for i in range(2,n+1):\n",
    "        solution[i] = solution[i-1] + solution[i-2]\n",
    "        print(f\"i={i}:  {solution}\")\n",
    "\n",
    "    return solution[-1]\n",
    "\n",
    "\n",
    "fib_dp(15)"
   ]
  },
  {
   "cell_type": "markdown",
   "metadata": {},
   "source": [
    "## What we are seeing above...\n",
    "Is the subsequent addition of a new value to the solution.  It is initialized with 0's (this is arbitrary, it could be any value).  And we see that at each step we are adding a new value that is the sum of the previous two values.\n",
    "\n",
    "## Wasted Memory?\n",
    "Yes, imagine if we were solving fib(100000).  We'd have a large array that we don't really need. This is simply an example of how dynamic programming works on a simple and easy to understand example.  In reality we needn't store a full array, but simply need to store the previous two values and shift them left as we iterate through, but that wouldn't be any fun in a dynamic programming notebook would it.  Plus most of the time when people are wanting the Fib series, they want all numbers 0...n not just the n'th element. :D\n",
    "\n",
    "-----"
   ]
  },
  {
   "cell_type": "markdown",
   "metadata": {},
   "source": [
    "# Job Selection\n",
    "\n",
    "Given a list of consecutive values, find the highest sum of values such that no two selected numbers are contiguous (next to each other) in the array.\n",
    "\n",
    "**Description of problem from the slides:**\n",
    "- You are a wealthy socialite who charges for public appearances.  This month/year/life you have offers for appearances every day with different payouts.\n",
    "- The problem is they are all in different cities in North America so if you work one job you cannot work jobs in the day before or after due to travel.\n",
    "- You want to select the jobs to work to make the most money this month/year/life.\n",
    "\n",
    "## Algorithm Concept\n",
    "We want to build the solution from left to right.  We ask ourselves, on day n, what is the max $ I can earn.\n",
    "\n",
    "- On Day 1 it is easy, take the job.\n",
    "- On Day 2 it is also easy, take the job that is most valuable.\n",
    "- On Day $n>2$ we have to say... do we take the job or not.\n",
    "  - If we take the job, we can't have taken the day before's job.\n",
    "  - If we don't take the job, we can.\n",
    "  \n",
    "So we say, we want to take the max of the n-2 day plus taking the job on day n... or the value of n-1."
   ]
  },
  {
   "cell_type": "code",
   "execution_count": null,
   "metadata": {
    "pycharm": {
     "is_executing": true
    }
   },
   "outputs": [],
   "source": [
    "def job_selection(calendar):\n",
    "    size = len(calendar)\n",
    "    j = [0] * size\n",
    "    s = [False] * size\n",
    "    j[0] = calendar[0]\n",
    "    s[0] = True\n",
    "    j[1] = max(calendar[0], calendar[1])\n",
    "    s[1] = calendar[1] > calendar[0]\n",
    "\n",
    "    for i in range(2, size):\n",
    "        with_last = j[i-2] + calendar[i]\n",
    "        with_out_last = j[i-1]\n",
    "        j[i] = max(with_last, with_out_last)\n",
    "        s[i] = with_last > with_out_last\n",
    "        \n",
    "    return j\n",
    "\n",
    "\n",
    "p = [15, 46, 43, 51, 92, 72, 61, 41, 39, 40, 82, 79, 42, 51]\n",
    "job_selection(p)\n",
    "    "
   ]
  },
  {
   "cell_type": "markdown",
   "metadata": {},
   "source": [
    "## What does this show us?\n",
    "\n",
    "Reading through this array, we can see that on day 1 the best is to take the first job.\n",
    "Day 2 it is best to give up the job on day one and take the job on day 2.\n",
    "On day 3... it looks like we take the job on day 1 and 3... but how do we know?  Human intuition.\n",
    "\n",
    "We also see that on the end of the calendar we have solved our problem, and the maximum is $383 dollars.\n",
    "\n",
    "Great, but what are the actual jobs from the array P that we selected????\n",
    "\n",
    "Look at the values 211 and 332.  See that they are redundant.  That means that on THOSE days, we chose not to work.  This gives us an intuition.   If we end up storing the days that we worked or didn't, we'd be able to \"recover\" the solution from the result.   We can do so by looking for successive values that are not changed, but it is also easy enough to simply store that we did or didn't choose the job for the day in another array.\n",
    "\n"
   ]
  },
  {
   "cell_type": "code",
   "execution_count": null,
   "metadata": {
    "pycharm": {
     "is_executing": true
    }
   },
   "outputs": [],
   "source": [
    "def job_selection_w_recover(calendar):\n",
    "    size = len(calendar)\n",
    "    j = [0] * size\n",
    "    s = [False] * size\n",
    "    j[0] = calendar[0]\n",
    "    s[0] = True\n",
    "    j[1] = max(calendar[0], calendar[1])\n",
    "    s[1] = calendar[1] > calendar[0]\n",
    "\n",
    "    for i in range(2, size):\n",
    "        with_last = j[i-2] + calendar[i]\n",
    "        with_out_last = j[i-1]\n",
    "        j[i] = max(with_last, with_out_last)\n",
    "        s[i] = with_last > with_out_last\n",
    "\n",
    "\n",
    "    return s, j\n",
    "\n",
    "s, j = job_selection_w_recover(p)\n",
    "\n",
    "print(s)\n",
    "print(j)"
   ]
  },
  {
   "cell_type": "markdown",
   "metadata": {},
   "source": [
    "## Reading recovery Array\n",
    "\n",
    "We can see a series of True or Falses for each day.  True means we took the job, false means we didn't.\n",
    "\n",
    "**This is not the list of days we worked to earn maximum money** because remember we can't work consecutive days?\n",
    "\n",
    "If we start at the end of this list though... we can see that we indeed worked the last day.  That means we didn't work the day before, so we can skip that day (move back 2 elements) and see that we didn't accept that day...  so we only need to step back one day.  \n",
    "\n",
    "In short, iterate backward from the end, skipping Two days for True and One day for false.  If the day you read is True, add that index to the days worked, otherwise, skip."
   ]
  },
  {
   "cell_type": "code",
   "execution_count": null,
   "metadata": {
    "pycharm": {
     "is_executing": true
    }
   },
   "outputs": [],
   "source": [
    "def job_selection_recover(job_solution):\n",
    "    a = []\n",
    "    i = len(job_solution) - 1\n",
    "\n",
    "    while i >= 0:\n",
    "        if job_solution[i]:\n",
    "            a.append(i)\n",
    "            i -= 2\n",
    "        else:\n",
    "            i -= 1\n",
    "    return a\n",
    "\n",
    "job_selection_recover(s)"
   ]
  },
  {
   "cell_type": "markdown",
   "metadata": {},
   "source": [
    "## Results of Recovery\n",
    "We see this list that we worked the 13th day, 10th day, 8th day... 0th day.\n",
    "\n",
    "We then combine this function with the original function so that can make one call as a user to get both the Dollars and the days worked:\n"
   ]
  },
  {
   "cell_type": "code",
   "execution_count": null,
   "metadata": {
    "pycharm": {
     "is_executing": true
    }
   },
   "outputs": [],
   "source": [
    "def job_selection_w_recover(calendar):\n",
    "    size = len(calendar)\n",
    "    j = [0] * size\n",
    "    s = [False] * size\n",
    "    j[0] = calendar[0]\n",
    "    s[0] = True\n",
    "    j[1] = max(calendar[0], calendar[1])\n",
    "    s[1] = calendar[1] > calendar[0]\n",
    "\n",
    "    for i in range(2, size):\n",
    "        with_last = j[i-2] + calendar[i]\n",
    "        with_out_last = j[i-1]\n",
    "        j[i] = max(with_last, with_out_last)\n",
    "        s[i] = with_last > with_out_last\n",
    "\n",
    "    days_worked = job_selection_recover(s)\n",
    "    return days_worked, j[-1]\n",
    "\n",
    "days, dollars = job_selection_w_recover(p)\n",
    "\n",
    "print(f\"By Working days: {days} you can earn {dollars} dollars.\")\n"
   ]
  },
  {
   "cell_type": "markdown",
   "metadata": {},
   "source": [
    "## Alternatives to using Recover?\n",
    "We show this recover because it is clever and effective, and gives the student some practice at solving problems that aren't directly intuitive.  There are however alternatives to having to use recover.\n",
    "\n",
    "Think back to the solution of the change making algorithm, where we stored the values of the days selected in each step...  we can do something similar with this result.\n",
    "\n",
    "At each step rather than storing True/False if we picked that day or not, we either store the days worked from the i-2 day and append the current day to the solution... or store the solution from the previous day."
   ]
  },
  {
   "cell_type": "code",
   "execution_count": null,
   "metadata": {
    "pycharm": {
     "is_executing": true
    },
    "scrolled": true
   },
   "outputs": [],
   "source": [
    "def job_selection_no_recover(calendar):\n",
    "    size = len(calendar)\n",
    "    j = [0] * size\n",
    "    days_worked = [None] * size  # CAN ALSO MAINTAIN THE DAYS WORKED TO NOT REQUIRE THE RECOVERY (LIKE CHANGE MAKING)\n",
    "    j[0] = calendar[0]\n",
    "    days_worked[0] = [0]\n",
    "    j[1] = max(calendar[0], calendar[1])\n",
    "    days_worked[1] = [1 if calendar[1] > calendar[0] else 0]\n",
    "\n",
    "    for i in range(2, size):\n",
    "        with_last = j[i-2] + calendar[i]\n",
    "        with_out_last = j[i-1]\n",
    "        j[i] = max(with_last, with_out_last)\n",
    "        if with_last > with_out_last:\n",
    "            days_worked[i] = days_worked[i-2].copy()\n",
    "            days_worked[i].append(i)\n",
    "        else:\n",
    "            days_worked[i] = days_worked[i-1].copy()\n",
    "    for l in days_worked:\n",
    "        print(l)\n",
    "    return days_worked[-1], j[-1]\n",
    "\n",
    "days_worked, dollars = job_selection_no_recover(p)\n",
    "print(f\"By Working days: {days_worked} you can earn {dollars}\")\n",
    "\n"
   ]
  },
  {
   "cell_type": "markdown",
   "metadata": {},
   "source": [
    "# 0-1 Knapsack\n",
    "\n",
    "This is a famous computer science problem used to demonstrate and introduce students to dynamic programming.  The concept is that you are given a knapsack with finite capacity, and a set of items with different weights and values.  The goal is to fill the knapsack with items such that you maximize the total value of items in the knapsack but remain at or under capacity.\n",
    "\n",
    "We solve this using dynamic programming by varying the size of both the capacity of the knapack AND the items available to place into it.\n",
    "\n",
    "Let's make this simple to help step into it.  We will have 3 variables, $w$ (the list of weights), $v$ (the list of values and $c$ the capacity of the knapsack."
   ]
  },
  {
   "cell_type": "code",
   "execution_count": null,
   "metadata": {
    "pycharm": {
     "is_executing": true
    }
   },
   "outputs": [],
   "source": [
    "w = [10,4,2]\n",
    "v = [4,1,5]\n",
    "c = 15\n"
   ]
  },
  {
   "cell_type": "markdown",
   "metadata": {},
   "source": [
    "## Initialization\n",
    "\n",
    "Let's start with the problem with only one item.  (the one with weight of 10 and value of 4).\n",
    "\n",
    "When we solve for the different capacities of the knapsack we will insert the first value only when the capacity is large enough to fit in."
   ]
  },
  {
   "cell_type": "code",
   "execution_count": null,
   "metadata": {
    "pycharm": {
     "is_executing": true
    }
   },
   "outputs": [],
   "source": [
    "solution = [0] * (c + 1)\n",
    "\n",
    "for j in range(c+1):\n",
    "    if w[0] <= j:\n",
    "        solution[j] = v[0] \n",
    "    else:\n",
    "        solution[j] = 0\n",
    "        \n",
    "print(solution)"
   ]
  },
  {
   "cell_type": "markdown",
   "metadata": {},
   "source": [
    "## Explaning the array we see.\n",
    "\n",
    "We see 16 values.  Capacity 0 is only used later.\n",
    "We see that the 11th value (capacity 10) is when 4 is allowed to be placed in the solution.\n",
    "\n",
    "Now, we want to see what it will look like with a second item.  in order to do this, we need a second row in the array... so we're going to do this manually just for demonstration purposes, and then make it generic."
   ]
  },
  {
   "cell_type": "code",
   "execution_count": null,
   "metadata": {
    "pycharm": {
     "is_executing": true
    }
   },
   "outputs": [],
   "source": [
    "solution2 = []\n",
    "solution2.append(solution)\n",
    "solution2.append([0] * (c+1))\n",
    "\n",
    "for s in solution2:\n",
    "    print(s)"
   ]
  },
  {
   "cell_type": "markdown",
   "metadata": {},
   "source": [
    "We are going to apply a second loop, but instead of only looking at the size (that is part of it) we have to see if the previous solution for that capacity was any better.\n",
    "\n",
    "Note we are now looking at item 0 with a weight of $w(1)=4$ and value of $v(1) = 1$"
   ]
  },
  {
   "cell_type": "code",
   "execution_count": null,
   "metadata": {
    "pycharm": {
     "is_executing": true
    }
   },
   "outputs": [],
   "source": [
    "for j in range(c+1):\n",
    "    if w[1] <= j:   # it will fit, so look to see if it's any better\n",
    "        with_item = solution2[0][j - w[1]] + v[1]\n",
    "    else:\n",
    "        with_item = -1\n",
    "    \n",
    "    without_item = solution2[0][j]\n",
    "    solution2[1][j] = max(with_item, without_item)\n",
    "    \n",
    "for s in solution2:\n",
    "    print(s)"
   ]
  },
  {
   "cell_type": "markdown",
   "metadata": {},
   "source": [
    "## Explaining what we see...\n",
    "\n",
    "We find that at capacity 4, we add the item with value 1.\n",
    "But once we get to capacity 10 we choose to keep the more valuable item in.\n",
    "\n",
    "It isn't until we get to the final capacity 15 do we see that the value of capacity of 15-4 (or capacity 9) (which is 4) plus the value of the current item (so 4+1 = 5) is greater than simply looking at the previous row's value (the best value without this item).\n",
    "\n",
    "## Making it generic\n",
    "\n",
    "To make it generic, we need to initalize a 2d array.  We still do the first row as a unique run (because there is no previous row to compare it with, (we're dealing with a trival problem of only a single item).\n",
    "\n",
    "And then for subsequent rows, we loop through each row, looking at the previous row for the best values either WITH or WITHOUT the item represented by the current row.\n",
    "\n"
   ]
  },
  {
   "cell_type": "code",
   "execution_count": null,
   "metadata": {
    "pycharm": {
     "is_executing": true
    }
   },
   "outputs": [],
   "source": [
    "import numpy as np\n",
    "def knapsack(weights, values, capacity):\n",
    "    \n",
    "    # THE SOLUTION IS NOW A 2D ARRAY OF SIZE N (NUMBER OF ITEMS) AND C+1 (CAPACITY +1)\n",
    "    solution = np.zeros((len(weights), capacity+1))\n",
    "\n",
    "    # INITIALIZE THE FIRST ITEM JUST AS WE DID BEFORE\n",
    "    for j in range(capacity+1):\n",
    "        solution[0, j] = values[0] if j >= weights[0] else 0\n",
    "\n",
    "    # NOW WE LOOP THROUGH EACH ROW, ASSESSING EACH NEW ITEM I\n",
    "    for i in range(1, len(weights)):\n",
    "        \n",
    "        # FOR EACH ITEM I, VARY THE CAPACITY AND COMPARE IT TO THE PREVIOUS ROWS\n",
    "        for j in range(capacity+1):\n",
    "            if weights[i] <= j:  # IF THIS ITEM CAN FIT\n",
    "                with_item = solution[i-1, j-weights[i]] + values[i]\n",
    "            else:\n",
    "                with_item = -1\n",
    "\n",
    "            without_item = solution[i-1,j]\n",
    "            solution[i, j] = max(without_item, with_item)\n",
    "\n",
    "    return solution\n",
    "\n",
    "solution = knapsack(w,v,c)\n",
    "\n",
    "print(solution)\n"
   ]
  },
  {
   "cell_type": "markdown",
   "metadata": {},
   "source": [
    "## Assessing the results, how to recover????\n",
    "\n",
    "We see here that the solution[-1,-1] will give us 9.   That is the \"max value\" the knapsack can have...\n",
    "\n",
    "With our human intuition with this small of a dataset is the 10lb item valued at 4 and the 2lb item valued at 5.   But how can we tell that from this 2D array.\n",
    "\n",
    "The solution requires a bit of backtracking (as the recovery did for the Job Selection algorithm).\n",
    "\n",
    "Here is the jist:\n",
    "\n",
    "- Start at the answer.  If the number directly above it matches, then this item was NOT included.\n",
    "- Continue Upward until the value above is NOT the same.  If it is the same, it WAS included, add that row's item to the \"results\"\n",
    "- Shift columns to the left the weight of the previously added item and repeat.\n",
    "\n",
    "Alternatively, you can also maintain a second 2D array that stores the selected values (similar to how we managed Change and Job selection).   NOTE because this is a 2D problem... the size cost for storing all of those solutions can be expensive."
   ]
  },
  {
   "cell_type": "markdown",
   "metadata": {},
   "source": [
    "# Student Excercise: Implement a Recovery Algorithm\n",
    "\n",
    "\n",
    "---\n",
    "<span style=\"color:green\">\n",
    "This may be tricky, but I'm sure you're up for the challenge.  Implement the solution above using the starter code below.\n",
    "</span>\n",
    "\n",
    "---"
   ]
  },
  {
   "cell_type": "code",
   "execution_count": null,
   "metadata": {
    "pycharm": {
     "is_executing": true
    }
   },
   "outputs": [],
   "source": [
    "def knapsack_recover(solution, weights, values):\n",
    "    rows, cols = solution.shape\n",
    "\n",
    "    curr_row = rows - 1\n",
    "    curr_col = cols - 1\n",
    "\n",
    "    result = []\n",
    "\n",
    "    curr_val = solution[curr_row, curr_col]\n",
    "    while curr_val > 0:\n",
    "        ### IMPLEMENT THE LOOP, IF YOU FIND A MATCH OF THE PREVIOUS COLUMN, MOVE UP A ROW AND CONTINUE\n",
    "        ### IF YOU FIND A MISMATCH ADD THE CURRENT ROW TO THE RESULT AND\n",
    "        ### FROM THE PREVIOUS COLUMN SUBTRACT THE WEIGHT OF THE ITEM FROM THE \n",
    "        ### COLUMN AND SUBTRACT THE VALUE FROM CURRENT VALUE\n",
    "\n",
    "        break  # REMOVE THIS LINE WHEN TRYING OUT YOUR CODE.\n",
    "\n",
    "    return result"
   ]
  },
  {
   "cell_type": "markdown",
   "metadata": {},
   "source": [
    "### Testing results\n",
    "\n",
    "If you implemented the above code correctly, you should get the following results:  [2,0]"
   ]
  },
  {
   "cell_type": "code",
   "execution_count": null,
   "metadata": {
    "pycharm": {
     "is_executing": true
    }
   },
   "outputs": [],
   "source": [
    "test_result = knapsack_recover(solution, w,v)\n",
    "\n",
    "print(test_result == [2,0])"
   ]
  },
  {
   "cell_type": "markdown",
   "metadata": {},
   "source": [
    "## A more elaborate test on a larger knapsack\n",
    "\n"
   ]
  },
  {
   "cell_type": "code",
   "execution_count": null,
   "metadata": {
    "pycharm": {
     "is_executing": true
    }
   },
   "outputs": [],
   "source": [
    "w2 = [1,4,2,6,7,4,1,3]\n",
    "v2 = [0,1,5,6,7,2,4,1]\n",
    "c2 = 13\n",
    "solution2 = knapsack(w2,v2,c2)\n",
    "\n",
    "expected_solution = [6,5,3,2]\n",
    "\n",
    "test_result2 = knapsack_recover(solution2, w2, v2)\n",
    "print(test_result2 == [6,5,3,2])"
   ]
  },
  {
   "cell_type": "code",
   "execution_count": null,
   "metadata": {
    "pycharm": {
     "is_executing": true
    }
   },
   "outputs": [],
   "source": [
    "    "
   ]
  }
 ],
 "metadata": {
  "kernelspec": {
   "display_name": "Python 3",
   "language": "python",
   "name": "python3"
  },
  "language_info": {
   "codemirror_mode": {
    "name": "ipython",
    "version": 3
   },
   "file_extension": ".py",
   "mimetype": "text/x-python",
   "name": "python",
   "nbconvert_exporter": "python",
   "pygments_lexer": "ipython3",
   "version": "3.8.2"
  }
 },
 "nbformat": 4,
 "nbformat_minor": 4
}