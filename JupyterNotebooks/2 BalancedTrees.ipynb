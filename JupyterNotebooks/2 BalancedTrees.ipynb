{
 "cells": [
  {
   "cell_type": "markdown",
   "metadata": {},
   "source": [
    "# TCSS503 - Week 2 Balanced Trees\n",
    "\n",
    "In this simple interactive tutorial, we will create a **Red-Black Tree**.  A Red-Black Tree is an implementation of a Binary Search Tree that grows from bottom to top, maintaining its balance to guarante a $O(\\log{n})$ time complexity for Inserts and Searches.\n",
    "\n",
    "\n",
    "## Red-Black Tree\n",
    "\n",
    "A Red-Black Tree is method of implementing a 2-3 tree using Red links to represent connecting keys of 3-Nodes and 4-Nodes and Black links representing connections between nodes.   For more information on 2-3 Trees and why they function, please review chapter 3.3 of Algorithms (Sedgewick).\n",
    "\n",
    "\n",
    "### Node Data Structure\n",
    "The node structure of a RedBlack tree is similar to the node structure of any other tree with the exception that we maintain a color attribute to indicate that the node is connected via a Black link or Red link.  To determine if the node's left or right nodes is red, we can use the following expression: `node.left.is_red`.\n",
    "\n",
    "For illustrative purposes, I've included a string representation of the node that simply shows the left and right keys and the color of the links.\n",
    "\n",
    "For example: `(10)<-[ Red ]--(5)--[Black]->(20)`"
   ]
  },
  {
   "cell_type": "code",
   "execution_count": 90,
   "metadata": {
    "pycharm": {
     "is_executing": true
    }
   },
   "outputs": [],
   "source": [
    "    class RedBlackNode:\n",
    "        def __init__(self, key, value):\n",
    "            self.key = key\n",
    "            self.value = value\n",
    "            self.left = None\n",
    "            self.right = None\n",
    "            self.is_red = True  # NEW NODES ARE ALWAYS RED IN THIS IMPLEMENTATION TO DEFAULT THEM TO BE SO.\n",
    "\n",
    "        def __str__(self):\n",
    "            l_node = \"None\" if self.left is None else self.left.key\n",
    "            l_link = \"Black\" if self.left is None or not self.left.is_red else \" Red \"\n",
    "            r_node = \"None\" if self.right is None else self.right.key\n",
    "            r_link = \"Black\" if self.right is None or not self.right.is_red else \" Red \"\n",
    "            return f\"({l_node})<--[{l_link}]--({self.key})--[{r_link}]-->({r_node})\"\n"
   ]
  },
  {
   "cell_type": "markdown",
   "metadata": {},
   "source": [
    "# Red-Black Class\n",
    "\n",
    "The class of the RedBlack tree is also very similar to the Binary Tree.  As a matter of fact the `.search()` algorithm is exactly the same.  We will build functions outside of the class and accept an instantiated `RedBlackBST` into the function so we can build them one at a time with explanations and tests within Jupyter notebook."
   ]
  },
  {
   "cell_type": "code",
   "execution_count": 91,
   "metadata": {},
   "outputs": [],
   "source": [
    "class RedBlackBST:\n",
    "\n",
    "    def __init__(self):\n",
    "        self.root = None\n"
   ]
  },
  {
   "cell_type": "markdown",
   "metadata": {},
   "source": [
    "Instantiate a new tree that can be used to store data, and pass into the later written functions."
   ]
  },
  {
   "cell_type": "code",
   "execution_count": 92,
   "metadata": {},
   "outputs": [],
   "source": [
    "bst = RedBlackBST()"
   ]
  },
  {
   "cell_type": "markdown",
   "metadata": {},
   "source": [
    "## Rotation\n",
    "\n",
    "When inserting into a Red-Black tree, there are three local transformations that need to take place to ensure that sub-trees remain \"left-leaning\" and there are no two consecutive red links.  These functions are:\n",
    "\n",
    "* `rotate_left(node)` Applied when a node's right link is red, and the left link is black.\n",
    "* `rotate_right(node)` Applied when two consecutive left links are red.\n",
    "* `flip_colors(node)` Applied when both child links are red. No rotation takes place, the red link is just pushed upward.\n"
   ]
  },
  {
   "cell_type": "code",
   "execution_count": 97,
   "metadata": {},
   "outputs": [],
   "source": [
    "    def rotate_left(node):\n",
    "        x = node.right              # X IS THE RIGHT LEANING RED NODE WHAT WILL BECOME THE NEW PARENT\n",
    "        node.right = x.left         # KEEP POINTER STRUCTURE IN TACT\n",
    "        x.left = node               \n",
    "        x.is_red = node.is_red      # MAINTAIN THE COLOR FROM THE ROTATED NODES LINK\n",
    "        node.is_red = True          # THE READ FOLLOWS FROM RIGHT TO LEFT\n",
    "        return x                    # RETURN THE NEW PARENT NODE FOR LATER USE\n",
    "\n",
    "\n",
    "    def flip_colors(node):\n",
    "        node.is_red = True\n",
    "        node.left.is_red = False\n",
    "        node.right.is_red = False\n",
    "        \n",
    "# NOTE THAT rotate_right is left as an excercise for the student in later cells.\n"
   ]
  },
  {
   "cell_type": "markdown",
   "metadata": {},
   "source": [
    "### Observing How Rotation and Flipping Colors Work\n",
    "\n",
    "In the following examples, we'll create a few node scenarios manually and watch the rotation.\n",
    "\n",
    "First we will see the situation when we have a Red node to the right of a parent node and how a rotation will change the parent node and shift the red link to the left."
   ]
  },
  {
   "cell_type": "code",
   "execution_count": 98,
   "metadata": {},
   "outputs": [
    {
     "name": "stdout",
     "output_type": "stream",
     "text": [
      "See that 'a' has a Red link to the right pointing at b.\n",
      "(None)<--[Black]--(a)--[ Red ]-->(b)\n"
     ]
    }
   ],
   "source": [
    "# BECAUSE INSERT HASN'T BEEN WRITTEN YET, WE ARE GOING TO BUILD THE STRUCTURE MANUALLY\n",
    "a = RedBlackNode('a', 'a')\n",
    "a.is_red = False\n",
    "b = RedBlackNode('b', 'b')\n",
    "a.right = b\n",
    "\n",
    "print(\"See that 'a' has a Red link to the right pointing at b.\")\n",
    "print(a)\n",
    "\n",
    "      "
   ]
  },
  {
   "cell_type": "markdown",
   "metadata": {},
   "source": [
    "Because `a.right` is a `Red` link, we would consider this a Right Leaning node and need to rotate left.\n",
    "\n",
    "So we will call rotate left on node A and see what happens."
   ]
  },
  {
   "cell_type": "code",
   "execution_count": 99,
   "metadata": {},
   "outputs": [
    {
     "name": "stdout",
     "output_type": "stream",
     "text": [
      "Now when we rotate a to the left, we will see that b is now the parent.\n",
      "\n",
      "Notice now that a has no children.\n",
      "(None)<--[Black]--(a)--[Black]-->(None)\n",
      "\n",
      "And when we print b it now has a as a child with a red link.\n",
      "(a)<--[ Red ]--(b)--[Black]-->(None)\n",
      "\n",
      "Also see that a was called, to rotate, and the returned value is:\n",
      "(a)<--[ Red ]--(b)--[Black]-->(None)\n"
     ]
    }
   ],
   "source": [
    "print(\"Now when we rotate a to the left, we will see that b is now the parent.\")\n",
    "x = rotate_left(a)\n",
    "\n",
    "print(\"\\nNotice now that a has no children.\")\n",
    "print(a)\n",
    "print(\"\\nAnd when we print b it now has a as a child with a red link.\")\n",
    "print(b)\n",
    "print(\"\\nAlso see that a was called, to rotate, and the returned value is:\")\n",
    "print(x)"
   ]
  },
  {
   "cell_type": "markdown",
   "metadata": {},
   "source": [
    "### Testing FlipColors\n",
    "Now let's test the Flipping of the colors.  This event should occur only when both left and right children of a node are connected with red links.\n",
    "\n",
    "         a\n",
    "        / \\\n",
    "      red red\n",
    "     /       \\\n",
    "    b         c"
   ]
  },
  {
   "cell_type": "code",
   "execution_count": 101,
   "metadata": {},
   "outputs": [
    {
     "name": "stdout",
     "output_type": "stream",
     "text": [
      "We see a as two red children.  When we are in this situation we need to flip the colors.\n",
      "(b)<--[ Red ]--(a)--[ Red ]-->(c)\n",
      "a.is_red = False\n",
      "\n",
      "And after a simple flip colors we see that they are both black. Easy as you like.\n",
      "\n",
      "Also note that 'a.is_red' was False, but it is now True.  When we flip colors we push the red value up the tree.\n",
      "(b)<--[Black]--(a)--[Black]-->(c)\n",
      "a.is_red = True\n"
     ]
    }
   ],
   "source": [
    "a = RedBlackNode('a', 'a')\n",
    "a.is_red = False\n",
    "b = RedBlackNode('b', 'b')\n",
    "c = RedBlackNode('c', 'c')\n",
    "\n",
    "a.left = b\n",
    "a.right = c\n",
    "\n",
    "print(\"We see a as two red children.  When we are in this situation we need to flip the colors.\")\n",
    "print(a)\n",
    "print(f\"a.is_red = {a.is_red}\")\n",
    "\n",
    "\n",
    "flip_colors(a)\n",
    "\n",
    "print(\"\\nAnd after a simple flip colors we see that they are both black. Easy as you like.\")\n",
    "print(\"\\nAlso note that 'a.is_red' was False, but it is now True.  When we flip colors we push the red value up the tree.\")\n",
    "print(a)\n",
    "print(f\"a.is_red = {a.is_red}\")"
   ]
  },
  {
   "cell_type": "markdown",
   "metadata": {},
   "source": [
    "\n",
    "## STUDENT EXAMPLE: ROTATE RIGHT\n",
    "\n",
    "\n",
    "---\n",
    "<span style=\"color:green\">\n",
    "    Uncomment the sample code below , write the \"rotate_right\" function.  Replace the #######'s with the correct expressions.  If you have completed the code correctly the following test will return \"PASSED\"\n",
    "</span>\n",
    "\n",
    "_Hint:  To comment/uncomment code in bulk, select the code block and use `ctrl+/` or `command+/` for pc and mac respectively)_\n",
    "\n",
    "---"
   ]
  },
  {
   "cell_type": "code",
   "execution_count": 102,
   "metadata": {},
   "outputs": [],
   "source": [
    "def rotate_right(node):\n",
    "    pass\n",
    "#     x = ############\n",
    "#     node.left = ######\n",
    "#     x.right = ######\n",
    "#     x.is_red = node.is_red\n",
    "#     node.is_red = True\n",
    "#     return x\n"
   ]
  },
  {
   "cell_type": "markdown",
   "metadata": {},
   "source": [
    "### Testing Student Example\n",
    "use the below code to test your function.  If you get it right the result will print \"PASSED\".  Feel free to update the code with print statements to help troubleshoot.\n",
    "\n",
    "Initial State:\n",
    "\n",
    "             c\n",
    "            / \\\n",
    "          red\n",
    "          /\n",
    "         b\n",
    "        / \\\n",
    "      red\n",
    "      /\n",
    "     a\n",
    "    / \\\n",
    "    \n",
    "Expected State:\n",
    "\n",
    "             b\n",
    "            / \\\n",
    "          red red\n",
    "          /     \\\n",
    "         a       c\n",
    "        / \\     / \\ \n",
    "    \n",
    "\n"
   ]
  },
  {
   "cell_type": "code",
   "execution_count": 103,
   "metadata": {},
   "outputs": [
    {
     "name": "stdout",
     "output_type": "stream",
     "text": [
      "FAILED: 'NoneType' object has no attribute 'is_red'\n",
      "A: (None)<--[Black]--(a)--[Black]-->(None)\n",
      "B: (a)<--[ Red ]--(b)--[Black]-->(None)\n",
      "C: (b)<--[ Red ]--(c)--[Black]-->(None)\n"
     ]
    }
   ],
   "source": [
    "def test_student_rotation():\n",
    "\n",
    "    # TESTING THE ROTATION FUNCTION FROM STUDENT\n",
    "    c = RedBlackNode('c', 'c')\n",
    "    c.is_red = False\n",
    "    b = RedBlackNode('b', 'b')\n",
    "    c.left = b\n",
    "    a = RedBlackNode('a', 'a')\n",
    "    b.left = a\n",
    "\n",
    "    try:\n",
    "        rotate_right(c)\n",
    "        result = b.left.is_red\n",
    "        result = result and b.right.is_red\n",
    "        result = result and b.left.key == 'a'\n",
    "        result = result and b.right.key == 'c' \n",
    "        \n",
    "    except AttributeError as e:\n",
    "        return f\"FAILED: {e}\\nA: {a}\\nB: {b}\\nC: {c}\"\n",
    "    if result:\n",
    "        return f\"PASSED, great job!\\nA: {a}\\nB: {b}\\nC: {c}\"\n",
    "    else:\n",
    "        return f\"FAILED:\\nA: {a}\\nB: {b}\\nC: {c}\"\n",
    "    \n",
    "\n",
    "print(test_student_rotation())\n",
    "    "
   ]
  },
  {
   "cell_type": "markdown",
   "metadata": {},
   "source": [
    "# Insert\n",
    "\n",
    "When inserting into a Red-Black tree, we offer a simple call to the client `.insert(key,value)`, a resursive method that will perform a search miss, insert the node where the miss occurs, and then resurively bubble back up the proper rotations and color flips back up the tree.  We will place the resurive code below.\n",
    "\n",
    "Also included below are simple helper functions for getting the child link colors, that handle the cases when children are `None`. \n",
    "\n",
    "## _put() explanation:\n",
    "The base case is simple.  `if node is None` then return a new RedBlack node with the desired key value.  This is the case when the search has found the bottom of the tree based on the recursive traversal.\n",
    "\n",
    "When the `node` passed into `_put` is **not** `None` then we recursively call `_put()` for `node.left` or `node.right` depending on the value of the `key` we are attempting to insert.\n"
   ]
  },
  {
   "cell_type": "code",
   "execution_count": 104,
   "metadata": {},
   "outputs": [],
   "source": [
    "    def _right_is_red(node):\n",
    "        if node.right is None:\n",
    "            return False\n",
    "        else:\n",
    "            return node.right.is_red\n",
    "    \n",
    "    def _left_is_red(node):\n",
    "        if node.left is None:\n",
    "            return False\n",
    "        else:\n",
    "            return node.left.is_red\n",
    "    \n",
    "    def _left_left_is_red(node):\n",
    "        if node is None:\n",
    "            return False\n",
    "        else:\n",
    "            return _left_is_red(node) and _left_is_red(node.left)\n",
    "    \n",
    "    def _put(bst, node, key, value):\n",
    "        if node is None:\n",
    "            return RedBlackNode(key, value)\n",
    "\n",
    "        if key < node.key:\n",
    "            node.left = _put(bst, node.left, key, value)\n",
    "        elif key > node.key:\n",
    "            node.right = _put(bst, node.right, key, value)\n",
    "        else:\n",
    "            node.value = value\n",
    "\n",
    "        if _right_is_red(node) and not _left_is_red(node):\n",
    "            node = rotate_left(node)\n",
    "        \n",
    "        if _left_left_is_red(node):\n",
    "            node = rotate_right(node)\n",
    "        \n",
    "        if _right_is_red(node) and _left_is_red(node):\n",
    "            flip_colors(node)\n",
    "\n",
    "        return node"
   ]
  },
  {
   "cell_type": "markdown",
   "metadata": {},
   "source": [
    "## _put() Sample\n",
    "\n",
    "Consider the following node structures.\n",
    "\n",
    "           b\n",
    "          / \\\n",
    "        blk blk\n",
    "       /       \\\n",
    "      a         c"
   ]
  },
  {
   "cell_type": "code",
   "execution_count": 105,
   "metadata": {},
   "outputs": [
    {
     "name": "stdout",
     "output_type": "stream",
     "text": [
      "(a)<--[Black]--(b)--[Black]-->(c)\n"
     ]
    }
   ],
   "source": [
    "b = RedBlackNode('b', 'b')\n",
    "b.is_red = False\n",
    "a = RedBlackNode('a', 'a')\n",
    "a.is_red = False\n",
    "b.left = a\n",
    "a.parent = b\n",
    "\n",
    "c = RedBlackNode('c', 'c')\n",
    "c.is_red = False\n",
    "b.right = c\n",
    "c.parent = b\n",
    "\n",
    "print(b)"
   ]
  },
  {
   "cell_type": "markdown",
   "metadata": {},
   "source": [
    "Let's say we would like to insert a key of 'd'.  We would expect that to be inserted in standard form to the right of c.  When that happens, it is inserted as a red link as is the way of a Red-Black tree.  When it is inserted in this way, we will want to rotate its parent to the left.  Let's simulate this.\n",
    "\n",
    "           b\n",
    "          / \\\n",
    "        blk blk\n",
    "       /       \\\n",
    "      a         c\n",
    "                 \\\n",
    "                  red\n",
    "                    \\\n",
    "                     d"
   ]
  },
  {
   "cell_type": "code",
   "execution_count": 106,
   "metadata": {
    "scrolled": true
   },
   "outputs": [
    {
     "name": "stdout",
     "output_type": "stream",
     "text": [
      "(None)<--[Black]--(a)--[Black]-->(None)\n",
      "(a)<--[Black]--(b)--[Black]-->(c)\n",
      "(None)<--[Black]--(c)--[ Red ]-->(d)\n",
      "(None)<--[Black]--(d)--[Black]-->(None)\n"
     ]
    }
   ],
   "source": [
    "d = RedBlackNode('d','d')\n",
    "c.right = d\n",
    "print(a)\n",
    "print(b)\n",
    "print(c)\n",
    "print(d)"
   ]
  },
  {
   "cell_type": "markdown",
   "metadata": {},
   "source": [
    "Notice that C's right child is red.  So we will rotate it left.  Doing so will make d the parent and c its left child with a red link."
   ]
  },
  {
   "cell_type": "code",
   "execution_count": 107,
   "metadata": {},
   "outputs": [
    {
     "name": "stdout",
     "output_type": "stream",
     "text": [
      "(None)<--[Black]--(a)--[Black]-->(None)\n",
      "(a)<--[Black]--(b)--[ Red ]-->(c)\n",
      "(None)<--[Black]--(c)--[Black]-->(None)\n",
      "(c)<--[ Red ]--(d)--[Black]-->(None)\n",
      "\n",
      "Also note that rotate_left returns the new root of that subtree: d\n",
      "(c)<--[ Red ]--(d)--[Black]-->(None)\n"
     ]
    }
   ],
   "source": [
    "x = rotate_left(c)\n",
    "print(a)\n",
    "print(b)\n",
    "print(c)\n",
    "print(d)\n",
    "\n",
    "print(\"\\nAlso note that rotate_left returns the new root of that subtree: d\")\n",
    "print(x)"
   ]
  },
  {
   "cell_type": "markdown",
   "metadata": {},
   "source": [
    "But notice that `b.right`, that was previously `c` should now be set to `d`, but it is incorrect!  This is why the `rotate_left` and `rotate_right` functions return a pointer to the subtrees new root.  This allows the new structure to be updated as we traverse back up the tree.  When we do this manually we know that `a.right`'s child is supposed to be the result of the insert.  So let's set this up again and show how we would use the result of rotation."
   ]
  },
  {
   "cell_type": "code",
   "execution_count": 108,
   "metadata": {},
   "outputs": [
    {
     "name": "stdout",
     "output_type": "stream",
     "text": [
      "(None)<--[Black]--(a)--[Black]-->(d)\n",
      "(c)<--[ Red ]--(d)--[Black]-->(None)\n",
      "(None)<--[Black]--(c)--[Black]-->(None)\n"
     ]
    }
   ],
   "source": [
    "b = RedBlackNode('b', 'b')\n",
    "b.is_red = False\n",
    "a = RedBlackNode('a', 'a')\n",
    "a.is_red = False\n",
    "b.left = a\n",
    "c = RedBlackNode('c', 'c')\n",
    "c.is_red = False\n",
    "b.right = c\n",
    "d = RedBlackNode('d','d')\n",
    "c.right = d\n",
    "\n",
    "a.right = rotate_left(c)\n",
    "\n",
    "print(a)\n",
    "print(d)\n",
    "print(c)"
   ]
  },
  {
   "cell_type": "markdown",
   "metadata": {},
   "source": [
    "## Now looking deeper into recursive components\n",
    "\n",
    "Notice how the rotation still takes place, but the resulting \"root\" of that rotation is set as the right.  Because we need to know if the left or right side of the parents need to be set with these results we perform the insert recursively.  As the rotations and flips are completed, they return the result up to the parent which them performs their own rotations.\n",
    "\n",
    "`        if key < node.key:\n",
    "            node.left = self._put(node.left, key, value)\n",
    "        elif key > node.key:\n",
    "            node.right = self._put(node.right, key, value)\n",
    "        else:\n",
    "            node.value = value\n",
    "`\n",
    "\n",
    "The above code states to traverse left or right based on the relative value of the key.  Putting the node on the call stack and passing the proper link to the next parent.  When that node (`node.left` or `node.right` is none, we're at the root of the tree and the base case simply returns the new inserted node.\n",
    "\n",
    "The second part of the recursive `_put()` function is where we are at the parent of what was inserted (or passed up the tree)\n",
    "\n",
    "`\n",
    " right_is_red = node.right is not None and node.right.is_red\n",
    " left_is_red = node.left is not None and node.left.is_red\n",
    " left_left_is_red = left_is_red and node.left.left is not None and node.left.left.is_red`\n",
    " \n",
    "` if right_is_red and not left_is_red:\n",
    "     node = self._rotate_left(node)`\n",
    "     \n",
    "`if left_left_is_red:\n",
    "     node = self._rotate_right(node)`\n",
    "     \n",
    "`if left_is_red and right_is_red:\n",
    "     self._flip_colors(node)`\n",
    "     \n",
    "`return node`\n",
    "\n",
    "\n",
    "In this step we check the local condition of the node.  If we are in any state where a rotation needs to occur, the new \"root\" of that local sub-tree is passed up and is set as the proper child of its respective parent.  This bubbles up the tree until we get to root.  After we are done, we ensure that the root color is always black.  This results in the final code for the public api call."
   ]
  },
  {
   "cell_type": "code",
   "execution_count": 109,
   "metadata": {},
   "outputs": [],
   "source": [
    "def insert(bst, key, value):\n",
    "    bst.root = _put(bst, bst.root, key, value)\n",
    "    bst.root.is_red = False    "
   ]
  },
  {
   "cell_type": "markdown",
   "metadata": {},
   "source": [
    "# Testing Insert\n",
    "\n",
    "We should be able to perform a few inserts now on a new RedBlack Trees and based on the expected outcomes, use manual traversal to review the proper structure.\n",
    "\n",
    "We'll start with a simple insert.   Note also that the next cell contains the solution to the earlier exercise.  It is used to allow this test to occur even if the student did not complete the exercise."
   ]
  },
  {
   "cell_type": "code",
   "execution_count": 110,
   "metadata": {},
   "outputs": [],
   "source": [
    "# Functional Rotate Right -- used in case the student has not yet completed their exercise.\n",
    "\n",
    "def rotate_right(node):\n",
    "    x = node.left\n",
    "    node.left = x.right\n",
    "    x.right = node\n",
    "    x.is_red = node.is_red\n",
    "    node.is_red = True\n",
    "    return x\n",
    "\n"
   ]
  },
  {
   "cell_type": "code",
   "execution_count": 111,
   "metadata": {},
   "outputs": [
    {
     "name": "stdout",
     "output_type": "stream",
     "text": [
      "(None)<--[Black]--(b)--[Black]-->(None)\n"
     ]
    }
   ],
   "source": [
    "bst = RedBlackBST()\n",
    "\n",
    "insert(bst, 'b', 'b')\n",
    "\n",
    "print(bst.root)"
   ]
  },
  {
   "cell_type": "markdown",
   "metadata": {},
   "source": [
    "We should see above a root node \"a\" with two null children.\n",
    "\n",
    "Next lets insert a value less than b.  We should see a red link to its left as it would be converted into a '2-node'.\n",
    "\n"
   ]
  },
  {
   "cell_type": "code",
   "execution_count": 112,
   "metadata": {},
   "outputs": [
    {
     "name": "stdout",
     "output_type": "stream",
     "text": [
      "(a)<--[ Red ]--(b)--[Black]-->(None)\n",
      "(None)<--[Black]--(a)--[Black]-->(None)\n"
     ]
    }
   ],
   "source": [
    "insert(bst,'a','a')\n",
    "print(bst.root)\n",
    "print(bst.root.left)"
   ]
  },
  {
   "cell_type": "markdown",
   "metadata": {},
   "source": [
    "Now if we insert a larger letter, C, it will start with B having two red links (as new links are always red).  What we should see is see a flip of the colors and b will exist with two blacks."
   ]
  },
  {
   "cell_type": "code",
   "execution_count": 113,
   "metadata": {},
   "outputs": [
    {
     "name": "stdout",
     "output_type": "stream",
     "text": [
      "(a)<--[Black]--(b)--[Black]-->(c)\n",
      "PASSED\n"
     ]
    }
   ],
   "source": [
    "insert(bst,'c','c')\n",
    "\n",
    "print(bst.root)\n",
    "\n",
    "passed = not bst.root.left.is_red and not bst.root.right.is_red\n",
    "print(\"PASSED\" if passed else \"FAILED\")"
   ]
  },
  {
   "cell_type": "markdown",
   "metadata": {},
   "source": [
    "Now, if we insert a larger value 'd', we should see that D would have been inserted to the right of C with a red link, causing a left rotation, making D the parent.  So we should see a.left -> d and d.right -> c with a red link."
   ]
  },
  {
   "cell_type": "code",
   "execution_count": 114,
   "metadata": {},
   "outputs": [
    {
     "name": "stdout",
     "output_type": "stream",
     "text": [
      "(a)<--[Black]--(b)--[Black]-->(d)\n",
      "(c)<--[ Red ]--(d)--[Black]-->(None)\n",
      "PASSED\n"
     ]
    }
   ],
   "source": [
    "insert(bst,'d','d')\n",
    "\n",
    "print(bst.root)\n",
    "print(bst.root.right)\n",
    "\n",
    "passed = bst.root.right.key == 'd' and bst.root.right.left.key == 'c' and bst.root.right.left.is_red\n",
    "print(\"PASSED\" if passed else \"FALILED\")"
   ]
  },
  {
   "cell_type": "markdown",
   "metadata": {},
   "source": [
    "## STUDENT EXAMPLE\n",
    "\n",
    "---\n",
    "<span style=\"color:green\">\n",
    "What do you think will happen if you insert something less than d but greater than c, like 'c2'.   Write code to insert the desired value and a test to determine if it executed correctly.\n",
    "    \n",
    "    Hint:  c2 will create to the right of c because it is greater and will be created as always with a red link.  This will require a rotation.  c2 should be the new parent and there will be two red links in a row d->c2->c which results in another rotation.\n",
    "</span>\n",
    "\n",
    "---"
   ]
  },
  {
   "cell_type": "code",
   "execution_count": 115,
   "metadata": {},
   "outputs": [
    {
     "ename": "SyntaxError",
     "evalue": "'(' was never closed (3613984011.py, line 1)",
     "output_type": "error",
     "traceback": [
      "\u001B[0;36m  File \u001B[0;32m\"/var/folders/yy/h8b481v143134c4pn_47_hnw0000gn/T/ipykernel_5702/3613984011.py\"\u001B[0;36m, line \u001B[0;32m1\u001B[0m\n\u001B[0;31m    insert(bst,####,####)\u001B[0m\n\u001B[0m          ^\u001B[0m\n\u001B[0;31mSyntaxError\u001B[0m\u001B[0;31m:\u001B[0m '(' was never closed\n"
     ]
    }
   ],
   "source": [
    "insert(bst,####,####)\n",
    "\n",
    "passed = #################\n",
    "       \n",
    "print(\"PASSED\" if passed else \"FAILED\")\n",
    "       "
   ]
  },
  {
   "cell_type": "markdown",
   "metadata": {},
   "source": [
    "# SEARCH\n",
    "\n",
    "Now that we see that insertion works well, we can just cover the trivial case of Search that we have seen in all BST's thus far.  A simple traversal left or right.  We don't care about color, just left and right."
   ]
  },
  {
   "cell_type": "code",
   "execution_count": 116,
   "metadata": {},
   "outputs": [],
   "source": [
    "def search(bst, key):\n",
    "    curr = bst.root\n",
    "\n",
    "    while True:\n",
    "        if curr is None:\n",
    "            return None\n",
    "        elif curr.key == key:\n",
    "            return curr.value\n",
    "        elif curr.key > key:\n",
    "            curr = curr.left\n",
    "        else:\n",
    "            curr = curr.right\n",
    "            "
   ]
  },
  {
   "cell_type": "markdown",
   "metadata": {},
   "source": [
    "## Testing Search\n",
    "\n",
    "These tests are also trivial.  Let's insert some needles and haystacks to make sure we're able to find things."
   ]
  },
  {
   "cell_type": "code",
   "execution_count": 117,
   "metadata": {},
   "outputs": [
    {
     "name": "stdout",
     "output_type": "stream",
     "text": [
      "Searching for 1 found one\n",
      "Searching for 10 found ten\n",
      "Searching for 5 found five\n",
      "Searching for 20 found twenty\n",
      "Searching for 25 found twenty-five\n",
      "Searching for 100 found one hundo\n"
     ]
    }
   ],
   "source": [
    "bst = RedBlackBST()\n",
    "\n",
    "keys = ['1','10','5','20','25','100']\n",
    "values = ['one','ten','five','twenty','twenty-five','one hundo']\n",
    "\n",
    "for k,v in zip(keys,values):\n",
    "    insert(bst, k, v)\n",
    "\n",
    "\n",
    "for key in keys:\n",
    "    print(f\"Searching for {key} found {search(bst, key)}\")\n"
   ]
  },
  {
   "cell_type": "markdown",
   "metadata": {},
   "source": [
    "## STUDENT EXAMPLE\n",
    "\n",
    "---\n",
    "<span style=\"color:green\">\n",
    "Performance Testing.   We've stated that RedTrees are efficient for both inserts and searches.  Write a stress test to insert various inserts and searches.  I've created an example that tests a random set of inserts.  Try comparing this to a series of searches.  How does the size of the tree impact the size of the searches?\n",
    "</span>\n",
    "\n",
    "---"
   ]
  },
  {
   "cell_type": "code",
   "execution_count": null,
   "metadata": {},
   "outputs": [
    {
     "name": "stdout",
     "output_type": "stream",
     "text": [
      "Inserting: 24773\r"
     ]
    }
   ],
   "source": [
    "import time\n",
    "import random\n",
    "TEST_SIZE = 100000\n",
    "\n",
    "samples = random.sample(range(0,TEST_SIZE), TEST_SIZE)\n",
    "\n",
    "bst = RedBlackBST()\n",
    "\n",
    "t_start = time.perf_counter()\n",
    "for sample in samples:\n",
    "    print(f\"Inserting: {sample}\\r\", end=\"\", flush=True)\n",
    "    insert(bst, sample, sample)\n",
    "print(\"COMPLETE                  \\n\")\n",
    "t_end = time.perf_counter()\n",
    "\n",
    "\n",
    "t_duration = t_end - t_start\n",
    "print(f\"\\n\\nTest lasted: {t_duration:.4f} seconds\")"
   ]
  },
  {
   "cell_type": "markdown",
   "metadata": {},
   "source": [
    "# Deleting\n",
    "\n",
    "The inquizitive student may we wondering about deleting keys.  The details are explained in Algorithms (Segewick) and will the topic of an upcoming assignment, thus the implementation details are not included in this Jupyter notebook."
   ]
  },
  {
   "cell_type": "code",
   "execution_count": null,
   "metadata": {},
   "outputs": [],
   "source": []
  }
 ],
 "metadata": {
  "kernelspec": {
   "display_name": "Python 3 (ipykernel)",
   "language": "python",
   "name": "python3"
  },
  "language_info": {
   "codemirror_mode": {
    "name": "ipython",
    "version": 3
   },
   "file_extension": ".py",
   "mimetype": "text/x-python",
   "name": "python",
   "nbconvert_exporter": "python",
   "pygments_lexer": "ipython3",
   "version": "3.10.0"
  }
 },
 "nbformat": 4,
 "nbformat_minor": 4
}