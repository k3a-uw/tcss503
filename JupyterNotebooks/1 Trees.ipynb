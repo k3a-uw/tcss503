{
 "cells": [
  {
   "cell_type": "markdown",
   "metadata": {},
   "source": [
    "# TCSS503 - Week 1 Tree Review\n",
    "\n",
    "In this simple interactive tutorial, we will create a Binary Search Tree (BST) using two underlying representations.\n",
    "\n",
    "Before we do, we need to remind ourselves what a Binary Search Tree is, what properties it has, what is valuable about those properties, and how do we interact with a BST.\n",
    "\n",
    "## Binary Search Tree\n",
    "\n",
    "A Binary Search Tree is a special tree with the following special property:\n",
    "* For each node in the tree all nodes in its **left** subtree are less than its value.\n",
    "* For each node in the tree all nodes in its **right** subtree are greater than or equal to its value.\n",
    "\n",
    "_Note: The left side can be less than or equal to (inclusive), and the right side can be greater than (exclusive).  That detail is left up to the implementation.  The right can also be lesser, and left be greater.  As long as it is consistent the value from these properties holds.\n",
    "\n",
    "Given this property, we can search for any value in the tree using Binary Search, a $O(log n)$ algorithm that quickly locates a particular item in the tree.\n",
    "\n",
    "### Common Methods\n",
    "The most common methods for a BST are `put` or `insert` where a value is added to the data structure.  The second common method is `get` or `search` where data is pulled out of the data structure.  Lastly, `remove` or `delete` will first locate a particular value and remove it from the tree.  Details of the implementation will be explained in each section.\n",
    "\n",
    "\n",
    "### Representations\n",
    "There are two most common representations of a Binary Search Tree, `Dynamic` and `Sequential`.  A `Dymanic` representation uses Nodes connected through parent and child links.  A `Sequential` implementation of a tree uses an _Array_ of objects representing the complete structure of the tree.  Each method has advantages.  A `Sequential` implementation has random access to all nodes via index and has less overhead in maintaining links.  However, it assumes a complete tree, so for sparse trees, more memory is consumed than is needed.  The `Dynamic` representation only uses the memory needed for the number of nodes in the tree but tree traversal algorithms are required to scan the entire data structure if that is ever needed.\n"
   ]
  },
  {
   "cell_type": "markdown",
   "metadata": {},
   "source": [
    "You may have a tree representation that looks something like this in a Dynamic structure, where each integer represents a node and the lines repreent the links for left and right.\n",
    "\n",
    "        10\n",
    "       /  \\\n",
    "      5    11\n",
    "     / \\     \\\n",
    "    3   6     15\n",
    "    \n",
    " The sequential representation would like like this, where index 0 is the root, 1 and 2 are the 1st level, and 3-6 are the subsequent levels.  Empty nodes are represnted by None or null.\n",
    "\n",
    "\n",
    "    +--------+-----+-----+-----+-----+-----+------+-----+\n",
    "    | Index  | 0   | 1   | 2   | 3   | 4   | 5    | 6   |\n",
    "    +--------+-----+-----+-----+-----+-----+------+-----+\n",
    "    | Value  | 10  | 5   | 11  | 3   | 6   | NULL | 15  |\n",
    "    +--------+-----+-----+-----+-----+-----+------+-----+\n",
    "\n",
    "\n"
   ]
  },
  {
   "cell_type": "markdown",
   "metadata": {},
   "source": [
    "# BST using Dynamic (Node-based) Representation \n",
    "\n",
    "## Creating the Class\n",
    "\n",
    "**Note** we will normally construct methods inside class and reference \"self\" but for purposes of breaking down the code into cells for Jupyter we will be passing an instantiated object into functions to perform the necessary manipulations.  In a regular python script, put the functions into the class and change `bst` to `self`\n",
    "\n",
    "As a side note, this kind of programming, where a common data structure is passed into functions like this is still Object Oriented Programming.  It is how you can do OOP in languages that don't natively support classes (e.g. $C$)\n",
    "\n",
    "\n",
    "## Node Representation (Subclass) Representation (TCSS501 Review)\n",
    "\n",
    "The dynamic representation requires a node object, it can be easily implemented as a subclass as shown below."
   ]
  },
  {
   "cell_type": "code",
   "execution_count": 9,
   "metadata": {},
   "outputs": [],
   "source": [
    "class BinarySearchTreeDynamic:\n",
    "\n",
    "    class TreeNode:\n",
    "        def __init__(self, data):\n",
    "            self.parent = None\n",
    "            self.data = data\n",
    "            self.left = None\n",
    "            self.right = None\n",
    "\n",
    "    def __init__(self, max_children=2):\n",
    "        self.root = None\n"
   ]
  },
  {
   "cell_type": "markdown",
   "metadata": {},
   "source": [
    "We are going to instantiate a bst and use it in susequential functions. "
   ]
  },
  {
   "cell_type": "code",
   "execution_count": 10,
   "metadata": {},
   "outputs": [],
   "source": [
    "bst = BinarySearchTreeDynamic()"
   ]
  },
  {
   "cell_type": "markdown",
   "metadata": {},
   "source": [
    "## Insert (Dynamic Structure)\n",
    "\n",
    "When inserting, starting with the root node, if it is none (the empty tree) simply set the root and be done.  If there is data in root, compare the new data to the data in root.  If it is less than root, traverse left, otherwise traverse right.  Continue comparing until you find a child node that does not exist (e.g. `None`).  Set that child node to the new node and return."
   ]
  },
  {
   "cell_type": "code",
   "execution_count": 11,
   "metadata": {},
   "outputs": [],
   "source": [
    "    def insert(bst, data):\n",
    "        n = BinarySearchTreeDynamic.TreeNode(data)\n",
    "        curr = bst.root\n",
    "        if bst.root is None:\n",
    "            bst.root = n\n",
    "            return\n",
    "\n",
    "        while True:\n",
    "            if n.data < curr.data:\n",
    "                if curr.left is None:\n",
    "                    n.parent = curr\n",
    "                    curr.left = n\n",
    "                    return\n",
    "                else:\n",
    "                    curr = curr.left\n",
    "            else:\n",
    "                if curr.right is None:\n",
    "                    n.parent = curr\n",
    "                    curr.right = n\n",
    "                    return\n",
    "                else:\n",
    "                    curr = curr.right"
   ]
  },
  {
   "cell_type": "markdown",
   "metadata": {},
   "source": [
    "\n",
    "## Testing the Insert Statement.  If we insert correctly we should see the following\n",
    "\n",
    "If we insert the following nodes in this order:\n",
    "[10, 5, 20, 25, 15] we should see the following behavior:\n",
    "\n",
    "\n",
    "- `bst.root.data` will be 10\n",
    "- `bst.root.left.data` will be 5\n",
    "- `bst.root.right.data` will be 20\n",
    "- `bst.root.right.right.data` will be 25\n",
    "- `bst.root.right.left.data` will be 15.\n",
    "\n",
    "\n",
    "        10\n",
    "       /  \\\n",
    "      5    20\n",
    "          /  \\\n",
    "        15    25\n"
   ]
  },
  {
   "cell_type": "code",
   "execution_count": 12,
   "metadata": {},
   "outputs": [
    {
     "name": "stdout",
     "output_type": "stream",
     "text": [
      "bst.root.data = 10\n",
      "bst.root.left.data = 5\n",
      "bst.root.right.data = 20\n",
      "bst.root.right.right.data = 25\n",
      "bst.root.right.left.data = 15\n"
     ]
    }
   ],
   "source": [
    "bst = BinarySearchTreeDynamic()\n",
    "inputs = [10, 5, 20, 25, 15]\n",
    "\n",
    "for input in inputs:\n",
    "    insert(bst, input)\n",
    "\n",
    "print(f\"bst.root.data = {bst.root.data}\")\n",
    "print(f\"bst.root.left.data = {bst.root.left.data}\")\n",
    "print(f\"bst.root.right.data = {bst.root.right.data}\")\n",
    "print(f\"bst.root.right.right.data = {bst.root.right.right.data}\")\n",
    "print(f\"bst.root.right.left.data = {bst.root.right.left.data}\")"
   ]
  },
  {
   "cell_type": "markdown",
   "metadata": {},
   "source": [
    "## STUDENT EXAMPLE\n",
    "\n",
    "---\n",
    "<span style=\"color:green\">\n",
    "    Using the below sample code, insert some records and determine where they will land in the data structure.\n",
    "    Replace #'s with proper syntax.  Note the cell will NOT execute unless you update the code properly.\n",
    "</span>\n",
    "\n",
    "---"
   ]
  },
  {
   "cell_type": "code",
   "execution_count": 13,
   "metadata": {},
   "outputs": [
    {
     "ename": "SyntaxError",
     "evalue": "invalid syntax (<ipython-input-13-716a7fe0e8f1>, line 3)",
     "output_type": "error",
     "traceback": [
      "\u001b[0;36m  File \u001b[0;32m\"<ipython-input-13-716a7fe0e8f1>\"\u001b[0;36m, line \u001b[0;32m3\u001b[0m\n\u001b[0;31m    for input in student_inputs:\u001b[0m\n\u001b[0m    ^\u001b[0m\n\u001b[0;31mSyntaxError\u001b[0m\u001b[0;31m:\u001b[0m invalid syntax\n"
     ]
    }
   ],
   "source": [
    "student_inputs = [#,#,#,#]\n",
    "\n",
    "for input in student_inputs:\n",
    "    insert(bst, input)\n",
    "\n",
    "print(f\"bst.root.#####.data = {bst.root.#####.data}\")\n",
    "print(f\"bst.root.#####.data = {bst.root.#####.data}\")\n",
    "print(f\"bst.root.#####.data = {bst.root.#####.data}\")\n",
    "print(f\"bst.root.#####.data = {bst.root.#####.data}\")\n",
    "print(f\"bst.root.#####.data = {bst.root.#####.data}\") \n",
    "    "
   ]
  },
  {
   "cell_type": "markdown",
   "metadata": {},
   "source": [
    "## Search (Dynamic Structure)\n",
    "\n",
    "Searching follows a similar pattern to inserting where you begin at the root and traverse right or left until you find the value you are searching for, or reach the end of the tree."
   ]
  },
  {
   "cell_type": "code",
   "execution_count": 14,
   "metadata": {},
   "outputs": [],
   "source": [
    "    def search(bst, data):\n",
    "        curr = bst.root\n",
    "\n",
    "        while True:\n",
    "            if curr is None:\n",
    "                return None\n",
    "            elif curr.data == data:\n",
    "                return data\n",
    "            elif curr.data > data:\n",
    "                curr = curr.left\n",
    "            else:\n",
    "                curr = curr.right"
   ]
  },
  {
   "cell_type": "markdown",
   "metadata": {},
   "source": [
    "## Testing Search\n",
    "\n",
    "Lets insert a few values and search for their results.  We should test for when the tree is empty, as well as for data that is not in the tree."
   ]
  },
  {
   "cell_type": "code",
   "execution_count": 15,
   "metadata": {},
   "outputs": [
    {
     "name": "stdout",
     "output_type": "stream",
     "text": [
      "Testing the empty case.  This should be None: r = None\n"
     ]
    }
   ],
   "source": [
    "bst = BinarySearchTreeDynamic()\n",
    "r = search(bst, 10)\n",
    "print(f\"Testing the empty case.  This should be None: r = {r}\")"
   ]
  },
  {
   "cell_type": "code",
   "execution_count": 16,
   "metadata": {},
   "outputs": [
    {
     "ename": "NameError",
     "evalue": "name 'dsearch' is not defined",
     "output_type": "error",
     "traceback": [
      "\u001b[0;31m---------------------------------------------------------------------------\u001b[0m",
      "\u001b[0;31mNameError\u001b[0m                                 Traceback (most recent call last)",
      "\u001b[0;32m<ipython-input-16-fa3e3c5242a1>\u001b[0m in \u001b[0;36m<module>\u001b[0;34m\u001b[0m\n\u001b[1;32m      6\u001b[0m \u001b[0mqueries\u001b[0m \u001b[0;34m=\u001b[0m \u001b[0;34m[\u001b[0m\u001b[0;36m10\u001b[0m\u001b[0;34m,\u001b[0m\u001b[0;36m15\u001b[0m\u001b[0;34m,\u001b[0m\u001b[0;36m15\u001b[0m\u001b[0;34m,\u001b[0m\u001b[0;36m20\u001b[0m\u001b[0;34m,\u001b[0m\u001b[0;36m21\u001b[0m\u001b[0;34m]\u001b[0m\u001b[0;34m\u001b[0m\u001b[0;34m\u001b[0m\u001b[0m\n\u001b[1;32m      7\u001b[0m \u001b[0;32mfor\u001b[0m \u001b[0mquery\u001b[0m \u001b[0;32min\u001b[0m \u001b[0mqueries\u001b[0m\u001b[0;34m:\u001b[0m\u001b[0;34m\u001b[0m\u001b[0;34m\u001b[0m\u001b[0m\n\u001b[0;32m----> 8\u001b[0;31m     \u001b[0mr\u001b[0m \u001b[0;34m=\u001b[0m \u001b[0mdsearch\u001b[0m\u001b[0;34m(\u001b[0m\u001b[0mbst\u001b[0m\u001b[0;34m,\u001b[0m\u001b[0mquery\u001b[0m\u001b[0;34m)\u001b[0m\u001b[0;34m\u001b[0m\u001b[0;34m\u001b[0m\u001b[0m\n\u001b[0m\u001b[1;32m      9\u001b[0m     \u001b[0mprint\u001b[0m\u001b[0;34m(\u001b[0m\u001b[0mtype\u001b[0m\u001b[0;34m(\u001b[0m\u001b[0mr\u001b[0m\u001b[0;34m)\u001b[0m\u001b[0;34m)\u001b[0m\u001b[0;34m\u001b[0m\u001b[0;34m\u001b[0m\u001b[0m\n\u001b[1;32m     10\u001b[0m \u001b[0;31m#     print(f\"Searching for {query}, found {type(search(bst,query)}\")\u001b[0m\u001b[0;34m\u001b[0m\u001b[0;34m\u001b[0m\u001b[0;34m\u001b[0m\u001b[0m\n",
      "\u001b[0;31mNameError\u001b[0m: name 'dsearch' is not defined"
     ]
    }
   ],
   "source": [
    "inputs = [10, 5, 20, 25, 15]\n",
    "\n",
    "for input in inputs:\n",
    "    insert(bst, input)\n",
    "\n",
    "queries = [10,15,15,20,21]\n",
    "for query in queries:\n",
    "    r = dsearch(bst,query)\n",
    "    print(type(r))\n",
    "#     print(f\"Searching for {query}, found {type(search(bst,query)}\")"
   ]
  },
  {
   "cell_type": "markdown",
   "metadata": {},
   "source": [
    "## STUDENT EXAMPLE\n",
    "\n",
    "---\n",
    "<span style=\"color:green\">\n",
    "Using the below code, insert some data and search for it in a brand new BST.  There are more ###'s marked out   below than previous examples. See if you can figure out what needs to go where!\n",
    "</span>\n",
    "\n",
    "---"
   ]
  },
  {
   "cell_type": "code",
   "execution_count": 17,
   "metadata": {},
   "outputs": [
    {
     "ename": "SyntaxError",
     "evalue": "invalid syntax (<ipython-input-17-f6c0201f28fd>, line 1)",
     "output_type": "error",
     "traceback": [
      "\u001b[0;36m  File \u001b[0;32m\"<ipython-input-17-f6c0201f28fd>\"\u001b[0;36m, line \u001b[0;32m1\u001b[0m\n\u001b[0;31m    student_bst = ###################\u001b[0m\n\u001b[0m                  ^\u001b[0m\n\u001b[0;31mSyntaxError\u001b[0m\u001b[0;31m:\u001b[0m invalid syntax\n"
     ]
    }
   ],
   "source": [
    "student_bst = ###################\n",
    "\n",
    "inputs = [######]\n",
    "    \n",
    "for ##### in ########:\n",
    "    insert(####,####)\n",
    "\n",
    "queries = [#######]\n",
    "\n",
    "for ### in ####:\n",
    "    r = search(####, ####)\n",
    "    print(#############)\n"
   ]
  },
  {
   "cell_type": "markdown",
   "metadata": {},
   "source": [
    "## Removal (Dynamic Structure)\n",
    "Removal of nodes is more difficult than simple insertion, because the tree needs to maintain its properties, and you may be removing a node from the anywhere in the free. A leaf node (no children), a node with a single child, or a node with two.\n",
    "\n",
    "- **No Children:** This one is easy, simply delete the node.\n",
    "- **One Child:** This one is almost as easy as no children. Simply set the links to the deleted nodes parent and child nodes to point to one another.\n",
    "- **Two Children:** A little less intuitive, but replace the node with the next largest successor.\n",
    "\n",
    "It should go without saying, but before you can delete a node you need to search for a node, so you know which to delete.  We are going to use the same algorith for search, but rather than getting the \"data\" out fo the search, we're going to return a pointer to the node object.  That will allow us access to it's parent and left and right children.\n",
    "\n",
    "That search will be followed by case statement to determine how many children it has.  Based on the child count we will perform the necessary actions."
   ]
  },
  {
   "cell_type": "code",
   "execution_count": 18,
   "metadata": {},
   "outputs": [],
   "source": [
    "def node_search(bst, data):\n",
    "    curr = bst.root\n",
    "\n",
    "    while curr is not None:\n",
    "        if curr.data == data:\n",
    "            return curr\n",
    "        elif curr.data > data:\n",
    "            curr = curr.left\n",
    "        else:\n",
    "            curr = curr.right"
   ]
  },
  {
   "cell_type": "code",
   "execution_count": 19,
   "metadata": {},
   "outputs": [],
   "source": [
    "    def remove(bst, data):\n",
    "\n",
    "        node = node_search(bst, data)\n",
    "\n",
    "        # IF NO NODE IS FOUND, DO NOT DELETE AND DO NOTHING\n",
    "        if node is None:\n",
    "            return False        \n",
    "\n",
    "        parent = node.parent  # Thanks Tom for catching the bug.\n",
    "        # CAPTURE CHILD COUNT\n",
    "        children = 0\n",
    "        if node.left and node.right:\n",
    "            children = 2\n",
    "        elif node.left or node.right:\n",
    "            children = 1\n",
    "\n",
    "        if children == 0:  # NO CHILDREN, JUST DELETE THE NODE FROM ITS PARENT\n",
    "            if parent is None:  # THIS IS JUST THE ROOT NODE W/O CHILDREN, DELETE IT\n",
    "                bst.root = None\n",
    "            elif parent.right is node:\n",
    "                parent.right = None\n",
    "            else:\n",
    "                parent.left = None\n",
    "\n",
    "        elif children == 1:  # SINGLE CHILD, JUST BYPASS IT\n",
    "            next_n = None\n",
    "            if node.left:\n",
    "                next_n = node.left\n",
    "            else:\n",
    "                next_n = node.right\n",
    "\n",
    "            if parent is None:  # THIS IS THE ROOT NODE, SPECIAL CASE\n",
    "                bst.root = next_n\n",
    "            elif parent.left is node:\n",
    "                parent.left = next_n\n",
    "            else:\n",
    "                parent.right = next_n\n",
    "\n",
    "        else:  # TWO CHILDREN - TRAVERSE TO NEXT MOST SUCCESSOR, SWAP DATA AND DELETE THE SUCCESSOR NODE\n",
    "            left_parent = node\n",
    "            leftmost_node = node.right\n",
    "            while leftmost_node.left:\n",
    "                left_parent = leftmost_node\n",
    "                leftmost_node = leftmost_node.left\n",
    "\n",
    "            node.data = leftmost_node.data\n",
    "\n",
    "            if left_parent.left == leftmost_node:\n",
    "                left_parent.left = leftmost_node.right\n",
    "            else:\n",
    "                left_parent.right = leftmost_node.right\n"
   ]
  },
  {
   "cell_type": "markdown",
   "metadata": {},
   "source": [
    "## Testing Remove\n",
    "\n",
    "Time is short at the time of this writing, so this iteration we will only show that removing something with two children works as it is the most complicated.  When we construct the same tree we have done before we will have 10 as the root, and 15 will be its next largest successor.  We should see if we remote the root, that 15 is in its place.  We will also see that its previous position `bst.root.right.left` is now `None`"
   ]
  },
  {
   "cell_type": "code",
   "execution_count": 20,
   "metadata": {},
   "outputs": [
    {
     "name": "stdout",
     "output_type": "stream",
     "text": [
      "bst.root.data = 10\n",
      "bst.root.left.data = 5\n",
      "bst.root.right.data = 20\n",
      "bst.root.right.right.data = 25\n",
      "bst.root.right.left.data = 15\n"
     ]
    }
   ],
   "source": [
    "bst = BinarySearchTreeDynamic()\n",
    "inputs = [10, 5, 20, 25, 15]\n",
    "\n",
    "for input in inputs:\n",
    "    insert(bst, input)\n",
    "\n",
    "print(f\"bst.root.data = {bst.root.data}\")\n",
    "print(f\"bst.root.left.data = {bst.root.left.data}\")\n",
    "print(f\"bst.root.right.data = {bst.root.right.data}\")\n",
    "print(f\"bst.root.right.right.data = {bst.root.right.right.data}\")\n",
    "print(f\"bst.root.right.left.data = {bst.root.right.left.data}\")"
   ]
  },
  {
   "cell_type": "code",
   "execution_count": 21,
   "metadata": {},
   "outputs": [],
   "source": [
    "remove(bst,10)"
   ]
  },
  {
   "cell_type": "code",
   "execution_count": 22,
   "metadata": {
    "scrolled": true
   },
   "outputs": [
    {
     "name": "stdout",
     "output_type": "stream",
     "text": [
      "Root is now: 15\n",
      "bst.root.right.left is now: None\n"
     ]
    }
   ],
   "source": [
    "print(f\"Root is now: {bst.root.data}\")\n",
    "print(f\"bst.root.right.left is now: {bst.root.right.left}\")"
   ]
  },
  {
   "cell_type": "markdown",
   "metadata": {},
   "source": [
    "# BST using Sequential (Array-based) Representation \n",
    "\n",
    "## Creating the Class\n",
    "\n",
    "We will create a class like we did above that contains just the data and will use functions outside fo the class to pass in the data to allow for breaking down code for Jupyter\n",
    "\n",
    "## Node Representation (Subclass) Representation (TCSS501 Review)\n",
    "\n",
    "The sequential representation contains an initial size, as it has to grow over time.  The default for this example is 64.  We will resize it as the tree grows.\n",
    "\n",
    "I'm including a few helper functions in this cell as well that will make the code later a little more clear.\n",
    "\n",
    "To calculate the left child of a node based on the index, a simple expression of $2 * index + 1$ can be used.  It follows that the right child will be only one index to the right of the left child and thus $2 * index + 2$ can be used."
   ]
  },
  {
   "cell_type": "code",
   "execution_count": 23,
   "metadata": {},
   "outputs": [],
   "source": [
    "class BinarySearchTreeSequential:\n",
    "\n",
    "    def __init__(self, init_size=64):\n",
    "        self.data = [None] * init_size\n",
    "        self.count = 0\n",
    "        \n",
    "    def __expand__(self):\n",
    "        \"\"\" Replicates the existing data, doubling in size, inserting None into the newly allocated memory.\"\"\"\n",
    "        self.data = self.data + [None] * len(self.data)\n",
    "\n",
    "    def __get_idx_of_left__(self, index):\n",
    "        return 2 * index + 1\n",
    "\n",
    "    def __get_idx_of_right__(self, index):\n",
    "        return 2 * index + 2\n",
    "    \n",
    "    def __get_idx_of_parent__(self, index):\n",
    "        \"\"\" Returns the parent of a given index.  Returns -1 for root.\"\"\"\n",
    "        offset = 1 if index % 2 == 1 else 2\n",
    "        return (index - offset) // 2"
   ]
  },
  {
   "cell_type": "markdown",
   "metadata": {},
   "source": [
    "## Insert (Sequential Structure)\n",
    "\n",
    "When inserting in the sequential structure, the logic is similar to the dynamic structure.  However, rather than following parent and child links, you simply traverse directly to the specific location in the array based on the index of the current element.\n",
    "\n",
    "There is one item to remember, because we are dealing with fixed allocated memory, the new location for a child may be outside of the array's range.  If that is the case, we must expand the data structure prior to inserting the element.\n",
    "\n",
    "When inserting, starting with the root node, if it is none (the empty tree) simply set the root and be done.  If there is data in root, compare the new data to the data in root.  If it is less than root, traverse left, otherwise traverse right.  Continue comparing until you find a child node that does not exist (e.g. `None`).  Set that child node to the new node and return."
   ]
  },
  {
   "cell_type": "code",
   "execution_count": 24,
   "metadata": {},
   "outputs": [],
   "source": [
    "    def insert_s(bst, data):\n",
    "        if bst.data[0] is None:\n",
    "            bst.data[0] = data\n",
    "        else:\n",
    "            idx = 0\n",
    "            while bst.data[idx] is not None:\n",
    "                if data < bst.data[idx]:\n",
    "                    idx = bst.__get_idx_of_left__(idx)\n",
    "                else:\n",
    "                    idx = bst.__get_idx_of_right__(idx)\n",
    "\n",
    "                if idx > len(bst.data) - 1:  # YOU HAVE REACHED CAPACITY, EXPAND BEFORE INSERTING\n",
    "                    bst.__expand__()\n",
    "\n",
    "            bst.data[idx] = data\n",
    "            bst.count += 1"
   ]
  },
  {
   "cell_type": "markdown",
   "metadata": {},
   "source": [
    "## Testing Insert \n",
    "\n",
    "Using similar test inputs as before, we should see that the root (e.g. `bst.data[0]` should be 10).\n",
    "\n",
    "* 10 (the first value / root) should be in position `data[0]`.\n",
    "* 20 (the second inserted value should be in position `data[2]`.\n",
    "* 5 (the third inserted value should be in position `data[1]`.\n",
    "* 25 is inserted next to the right of 20, and thus position `data[6]`.\n",
    "* 15 is larger than, smaller than 20, so it will be in position `data[5].`\n"
   ]
  },
  {
   "cell_type": "code",
   "execution_count": 25,
   "metadata": {
    "scrolled": true
   },
   "outputs": [
    {
     "name": "stdout",
     "output_type": "stream",
     "text": [
      "[10, 5, 20, None, None, 15, 25, None, None, None]\n"
     ]
    }
   ],
   "source": [
    "bst = BinarySearchTreeSequential()\n",
    "\n",
    "inputs = [10, 20, 5, 25, 15]\n",
    "\n",
    "for input in inputs:\n",
    "    insert_s(bst,input)\n",
    "\n",
    "print(bst.data[0:10])"
   ]
  },
  {
   "cell_type": "markdown",
   "metadata": {},
   "source": [
    "If we insert a number larger than 25, it will flow all the way to the right to position $6*2+2 =14$."
   ]
  },
  {
   "cell_type": "code",
   "execution_count": 26,
   "metadata": {},
   "outputs": [
    {
     "name": "stdout",
     "output_type": "stream",
     "text": [
      "[10, 5, 20, None, None, 15, 25, None, None, None, None, None, None, None, 27]\n"
     ]
    }
   ],
   "source": [
    "insert_s(bst, 27)\n",
    "\n",
    "print(bst.data[0:15])"
   ]
  },
  {
   "cell_type": "markdown",
   "metadata": {},
   "source": [
    "And a number smaller than 25 but larger than 20 will fall into $6*2+1=13$\n",
    "And a number smaller than 10 but larger than 5 will fall into $1*2+2=4$"
   ]
  },
  {
   "cell_type": "code",
   "execution_count": 27,
   "metadata": {},
   "outputs": [
    {
     "name": "stdout",
     "output_type": "stream",
     "text": [
      "[10, 5, 20, None, 6, 15, 25, None, None, None, None, None, None, 24, 27]\n"
     ]
    }
   ],
   "source": [
    "insert_s(bst, 24)\n",
    "insert_s(bst, 6)\n",
    "print(bst.data[0:15])"
   ]
  },
  {
   "cell_type": "markdown",
   "metadata": {},
   "source": [
    "The below represents the values of the tree in a structural form. `N = None`\n",
    "\n",
    "               10    \n",
    "             _/  \\_\n",
    "           _/      \\_\n",
    "          5          20\n",
    "        /   \\       /  \\\n",
    "       N     6     15   25  \n",
    "      / \\   / \\    / \\  / \\\n",
    "     N   N N   N  N  N 24 27   \n",
    "     \n",
    "The below represents what indexes are represented by each location of the tree.\n",
    "\n",
    "                0    \n",
    "             _/   \\_\n",
    "           _/       \\_\n",
    "          1            2\n",
    "        /   \\         /  \\\n",
    "       3     4       5    6  \n",
    "      / \\   / \\     / \\  /  \\\n",
    "     7   8 9   10  11 12 13 14 \n",
    "     \n",
    "## Expanding the Tree\n",
    "As you see, as nodes are added to the right of the tree (because we are not balancing this tree out) if we add successively larger numbers our tree will start to look like this, and our number of indexes needed will grow significantly.  THe number in parenthesis is the index value.  You can see when we are unbalanced, we have a very sparse tree and thus an array is **not** a very efficient way to store the values.\n",
    "\n",
    "       0  (0)\n",
    "        \\\n",
    "         1 (2)\n",
    "          \\\n",
    "           2 (6)\n",
    "            \\ \n",
    "             3 (14)\n",
    "              \\\n",
    "               4 (30)\n",
    "                \\\n",
    "                 5 (62)\n",
    "                  \\ \n",
    "                   6 (126)\n",
    "                    ...\n",
    "                     \\\n",
    "                     ...\n",
    "                      20 (4,194,302)\n",
    "                      \n",
    "It's for this (and other) reasons that we want to keep these trees balanced.  We will learn how to balance trees in week 2."
   ]
  },
  {
   "cell_type": "code",
   "execution_count": 28,
   "metadata": {},
   "outputs": [
    {
     "ename": "AttributeError",
     "evalue": "'BinarySearchTreeSequential' object has no attribute 'root'",
     "output_type": "error",
     "traceback": [
      "\u001b[0;31m---------------------------------------------------------------------------\u001b[0m",
      "\u001b[0;31mAttributeError\u001b[0m                            Traceback (most recent call last)",
      "\u001b[0;32m<ipython-input-28-e3f7f3167035>\u001b[0m in \u001b[0;36m<module>\u001b[0;34m\u001b[0m\n\u001b[1;32m      2\u001b[0m \u001b[0;34m\u001b[0m\u001b[0m\n\u001b[1;32m      3\u001b[0m \u001b[0;32mfor\u001b[0m \u001b[0mi\u001b[0m \u001b[0;32min\u001b[0m \u001b[0mrange\u001b[0m\u001b[0;34m(\u001b[0m\u001b[0;36m1\u001b[0m\u001b[0;34m,\u001b[0m \u001b[0;36m20\u001b[0m\u001b[0;34m)\u001b[0m\u001b[0;34m:\u001b[0m\u001b[0;34m\u001b[0m\u001b[0;34m\u001b[0m\u001b[0m\n\u001b[0;32m----> 4\u001b[0;31m     \u001b[0minsert\u001b[0m\u001b[0;34m(\u001b[0m\u001b[0mbst\u001b[0m\u001b[0;34m,\u001b[0m\u001b[0mi\u001b[0m\u001b[0;34m)\u001b[0m\u001b[0;34m\u001b[0m\u001b[0;34m\u001b[0m\u001b[0m\n\u001b[0m\u001b[1;32m      5\u001b[0m \u001b[0;34m\u001b[0m\u001b[0m\n\u001b[1;32m      6\u001b[0m \u001b[0mprint\u001b[0m\u001b[0;34m(\u001b[0m\u001b[0;34mf\"How bloated is it: BST Contains {bst.count} records in an array of size {len(bst.data)}\"\u001b[0m\u001b[0;34m)\u001b[0m\u001b[0;34m\u001b[0m\u001b[0;34m\u001b[0m\u001b[0m\n",
      "\u001b[0;32m<ipython-input-11-b9e1fb89818e>\u001b[0m in \u001b[0;36minsert\u001b[0;34m(bst, data)\u001b[0m\n\u001b[1;32m      1\u001b[0m \u001b[0;32mdef\u001b[0m \u001b[0minsert\u001b[0m\u001b[0;34m(\u001b[0m\u001b[0mbst\u001b[0m\u001b[0;34m,\u001b[0m \u001b[0mdata\u001b[0m\u001b[0;34m)\u001b[0m\u001b[0;34m:\u001b[0m\u001b[0;34m\u001b[0m\u001b[0;34m\u001b[0m\u001b[0m\n\u001b[1;32m      2\u001b[0m     \u001b[0mn\u001b[0m \u001b[0;34m=\u001b[0m \u001b[0mBinarySearchTreeDynamic\u001b[0m\u001b[0;34m.\u001b[0m\u001b[0mTreeNode\u001b[0m\u001b[0;34m(\u001b[0m\u001b[0mdata\u001b[0m\u001b[0;34m)\u001b[0m\u001b[0;34m\u001b[0m\u001b[0;34m\u001b[0m\u001b[0m\n\u001b[0;32m----> 3\u001b[0;31m     \u001b[0mcurr\u001b[0m \u001b[0;34m=\u001b[0m \u001b[0mbst\u001b[0m\u001b[0;34m.\u001b[0m\u001b[0mroot\u001b[0m\u001b[0;34m\u001b[0m\u001b[0;34m\u001b[0m\u001b[0m\n\u001b[0m\u001b[1;32m      4\u001b[0m     \u001b[0;32mif\u001b[0m \u001b[0mbst\u001b[0m\u001b[0;34m.\u001b[0m\u001b[0mroot\u001b[0m \u001b[0;32mis\u001b[0m \u001b[0;32mNone\u001b[0m\u001b[0;34m:\u001b[0m\u001b[0;34m\u001b[0m\u001b[0;34m\u001b[0m\u001b[0m\n\u001b[1;32m      5\u001b[0m         \u001b[0mbst\u001b[0m\u001b[0;34m.\u001b[0m\u001b[0mroot\u001b[0m \u001b[0;34m=\u001b[0m \u001b[0mn\u001b[0m\u001b[0;34m\u001b[0m\u001b[0;34m\u001b[0m\u001b[0m\n",
      "\u001b[0;31mAttributeError\u001b[0m: 'BinarySearchTreeSequential' object has no attribute 'root'"
     ]
    }
   ],
   "source": [
    "bst = BinarySearchTreeSequential()\n",
    "\n",
    "for i in range(1, 20):\n",
    "    insert(bst,i)\n",
    "\n",
    "print(f\"How bloated is it: BST Contains {bst.count} records in an array of size {len(bst.data)}\")\n"
   ]
  },
  {
   "cell_type": "markdown",
   "metadata": {},
   "source": [
    "## Searching (Sequential Structure)\n",
    "\n",
    "One may be tempted to simply perform linear search because we haven an array. But remember, linear search is $O(n)$ where Binary Search is $O(log n)$.  Binary Search using a sequential structure works the same as dynamic.  We start at the root and then traverse \"left\" or \"right\" until we find the data we want, or the None."
   ]
  },
  {
   "cell_type": "code",
   "execution_count": 29,
   "metadata": {},
   "outputs": [],
   "source": [
    "    def search_s(bst, data):\n",
    "        idx = 0\n",
    "        while bst.data[idx] is not None:\n",
    "            if data == bst.data[idx]:\n",
    "                return idx\n",
    "            elif data < bst.data[idx]:\n",
    "                idx = bst.__get_idx_of_left__(idx)\n",
    "            else:\n",
    "                idx = bst.__get_idx_of_right__(idx)\n",
    "\n",
    "            if idx > len(bst.data) - 1:\n",
    "                return None"
   ]
  },
  {
   "cell_type": "markdown",
   "metadata": {},
   "source": [
    "Let's create some basic input and just test it out, make sure it works.\n",
    "\n",
    "For this implementation of search, we are returning the **index** of where the data live.  This is a choice, we could just return the data, but returning the exact information that was requested isn't very interesting."
   ]
  },
  {
   "cell_type": "code",
   "execution_count": 30,
   "metadata": {},
   "outputs": [
    {
     "name": "stdout",
     "output_type": "stream",
     "text": [
      "I expect the index to be 0 for this one. idx:0 Pass:True\n"
     ]
    }
   ],
   "source": [
    "bst = BinarySearchTreeSequential()\n",
    "\n",
    "inputs = [10, 20, 5, 25, 15]\n",
    "\n",
    "for input in inputs:\n",
    "    insert_s(bst,input)\n",
    "\n",
    "idx = search_s(bst,10)\n",
    "\n",
    "print(f\"I expect the index to be 0 for this one. idx:{idx} Pass:{idx==0}\")"
   ]
  },
  {
   "cell_type": "markdown",
   "metadata": {},
   "source": [
    "## STUDENT EXAMPLE\n",
    "\n",
    "---\n",
    "<span style=\"color:green\">\n",
    "Using the below code, try and write a few inserts and test to make sure you understand how tree sequences work depending on the order of insertion!\n",
    "</span>\n",
    "\n",
    "---\n",
    "\n"
   ]
  },
  {
   "cell_type": "code",
   "execution_count": 31,
   "metadata": {},
   "outputs": [
    {
     "name": "stdout",
     "output_type": "stream",
     "text": [
      "I searched for 1, expected: 0 and got: 0.  Pass: True\n",
      "I searched for 2, expected: 2 and got: 2.  Pass: True\n",
      "I searched for 3, expected: 6 and got: 6.  Pass: True\n",
      "I searched for 4, expected: 14 and got: 14.  Pass: True\n"
     ]
    }
   ],
   "source": [
    "student_bst = BinarySearchTreeSequential()\n",
    "\n",
    "# inputs = [#,#,#,#,#,#,#,#,#,#]\n",
    "# search_values = [#,#,#,#]\n",
    "# expected_indexes = [#,#,#,#]\n",
    "\n",
    "inputs = [1,2,3,4,5,6,7,8,9,10]\n",
    "search_values = [1,2,3,4]\n",
    "expected_indexes = [0,2,6,14]\n",
    "\n",
    "for input in inputs:\n",
    "    insert_s(student_bst,input)\n",
    "\n",
    "for sv, exp in zip(search_values, expected_indexes):\n",
    "    r = search_s(student_bst,sv)\n",
    "    print(f\"I searched for {sv}, expected: {exp} and got: {r}.  Pass: {exp==r}\")\n"
   ]
  },
  {
   "cell_type": "markdown",
   "metadata": {},
   "source": [
    "# Deleting from the Sequential BST\n",
    "\n",
    "The method for deleting from a Sequential BST is much more involved than deleting from a dynamic tree.  Primarily because we have to shift entire substrees around in the array rather than just updating a few links.\n",
    "\n",
    "We will discuss the methods for doing this in later lectures when we discuss more indept the various traversal alg"
   ]
  },
  {
   "cell_type": "code",
   "execution_count": null,
   "metadata": {},
   "outputs": [],
   "source": []
  }
 ],
 "metadata": {
  "kernelspec": {
   "display_name": "Python 3 (ipykernel)",
   "language": "python",
   "name": "python3"
  },
  "language_info": {
   "codemirror_mode": {
    "name": "ipython",
    "version": 3
   },
   "file_extension": ".py",
   "mimetype": "text/x-python",
   "name": "python",
   "nbconvert_exporter": "python",
   "pygments_lexer": "ipython3",
   "version": "3.10.0"
  }
 },
 "nbformat": 4,
 "nbformat_minor": 4
}
