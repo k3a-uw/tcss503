{
 "cells": [
  {
   "cell_type": "markdown",
   "metadata": {},
   "source": [
    "# TCSS503 - Week 3 Graphs\n",
    "\n",
    "In this simple interactive tutorial, we will look at a basic colored and weighted **Graph** implementation in python.  A graph is a mathematical structure used in many real world problems such as computer networks, circuit boards, maps, social networks, gene expression, waterflows, manufacturing processes and much much more.\n",
    "\n",
    "A graph is extremely simple at its core.  It is a structure that contains Vertices which are optionally connected pairwise with Edges.  Vertices are often labeled or classified with Colors and Edges are often given a numeric weight.  While color and weight are standard terms, these values can represent any desireable classification and attribute.\n",
    "\n",
    "## Graph and its Sub-Classes\n",
    "\n",
    "The `Graph` class is simple, just a couple of subclasses to holding the objects of `Vertex` and `Edge`, a few counters to track its size, and a dictionary (hash table) to store Vertices idenfied using keys.\n",
    "\n",
    "### Graph.Vertex\n",
    "A simple structure that contains an color and an adjacency list of directed Edges.  The `Vertex` class also contains an `out_degree(self)` method return the number of edges that leave this edge.  Also worth noting is the `get_edges(self)` method that will return the list of adjacent edges for use in traversal algorithms.  Finally, the `add_edge(self, edge)` method accepts a Graph.Edge and adds the edge to the end of the vertex adjecency list `self.adj`\n",
    "\n",
    "### Graph.Edge\n",
    "\n",
    "The `Edge` class is a simple supporting class that stores a `source` and `target` value (Vertex) and a weight."
   ]
  },
  {
   "cell_type": "code",
   "execution_count": 49,
   "metadata": {},
   "outputs": [],
   "source": [
    "class Graph:\n",
    "    \"\"\" A Python Implementation of a Basic Directed Graph.\n",
    "    \"\"\"\n",
    "    class Vertex:\n",
    "        \"\"\"A basic Vertex or graph node that can store a color, and has an adjacency list.\n",
    "        \"\"\"\n",
    "        def __init__(self, key, color=None):\n",
    "            \"\"\"Returns a newly created `Vertex` object.\n",
    "            :param key: The unique value by which to retrieve the desired value.\n",
    "            :param color: The optional color of the vertex.\n",
    "            \"\"\"\n",
    "            self.key = key\n",
    "            self.color = color\n",
    "            self.adj = []\n",
    "\n",
    "        def edge_list(self):\n",
    "            \"\"\"Prints basic list of edges.\"\"\"\n",
    "            return_str = \"\"\n",
    "            for edge in self.adj:\n",
    "                return_str += f\"{edge}\\n\"\n",
    "\n",
    "            return return_str\n",
    "\n",
    "        def get_edges(self):\n",
    "            \"\"\" Returns a list of out edges from the existing vertex.\"\"\"\n",
    "            return self.adj\n",
    "\n",
    "        def out_degree(self):\n",
    "            \"\"\"Returns the Out Degree of the Vertex\"\"\"\n",
    "            return len(self.adj)\n",
    "\n",
    "        def add_edge(self, edge):\n",
    "            self.adj.append(edge)\n",
    "\n",
    "        def __str__(self):\n",
    "            \"\"\"Returns a string representation of a node, including the ids and colors of its left and right links.\n",
    "            The pattern used is: `(left.key)<-[Red|Black]--(node.key)--[Red|Black]->(right.key)\n",
    "            If either left or right nodes are blank, the key is `None` and the link color defaults to `Black`.\n",
    "\n",
    "            :return: String representation of the desired node.\n",
    "            \"\"\"\n",
    "            color_str = \"\" if self.color is None else f\":{self.color}\"\n",
    "            return f\"({self.key}{color_str})\"\n",
    "\n",
    "    class Edge:\n",
    "        \"\"\"Simple Edge class that stores a source and target and a weight.\"\"\"\n",
    "\n",
    "        def __init__(self, source, target, weight=None):\n",
    "            self.source = source\n",
    "            self.target = target\n",
    "            self.weight = weight\n",
    "\n",
    "        def __str__(self):\n",
    "            weight_str = \"\" if self.weight is None else f\"[{self.weight}]\"\n",
    "            return f\"{self.source}-{weight_str}->{self.target}\"\n",
    "\n",
    "    def __init__(self):\n",
    "        \"\"\"Creates an empty graph with no Vertices and no Edges.\"\"\"\n",
    "        self.V = 0\n",
    "        self.E = 0\n",
    "        self.vertices = {}\n",
    "\n",
    "    def __str__(self):\n",
    "        \"\"\"Prints basic information about the graph.\"\"\"\n",
    "        return f\"Vertices:{self.V}, Edges:{self.E}, Degree:{self.degree()}\"\n",
    "    \n",
    "    def degree(self):\n",
    "        \"\"\"Returns the total degree from all nodes in graph G\"\"\"\n",
    "        return sum([self.vertices[x].out_degree() for x in self.vertices.keys()])\n"
   ]
  },
  {
   "cell_type": "markdown",
   "metadata": {},
   "source": [
    "# Adding a Vertex\n",
    "\n",
    "To add a vertex to a graph, we implement a simple method that accepts a key, instantiates a new Vertex Object and then adds it to the Graph's data structure (dictionary) `self.vertices`"
   ]
  },
  {
   "cell_type": "code",
   "execution_count": 50,
   "metadata": {},
   "outputs": [],
   "source": [
    "    def add_vertex(graph, key, color=None):\n",
    "        \"\"\" Adds new vertex of optional color to the Graph. Throws a Key error if he vertex key is already used.\"\"\"\n",
    "        if key in graph.vertices.keys():\n",
    "            raise KeyError(f\"Key: {key} already exists in the graph.  Trying to update?  Use update_vertex instead.\")\n",
    "        else:\n",
    "            graph.vertices[key] = Graph.Vertex(key, color)\n",
    "            graph.V += 1\n",
    "            return graph.vertices[key]"
   ]
  },
  {
   "cell_type": "markdown",
   "metadata": {},
   "source": [
    "## Let's add a few sample vertices to see how it works."
   ]
  },
  {
   "cell_type": "code",
   "execution_count": 51,
   "metadata": {},
   "outputs": [
    {
     "name": "stdout",
     "output_type": "stream",
     "text": [
      "Vertices:2, Edges:0, Degree:0\n",
      "Vertices:3, Edges:0, Degree:0\n"
     ]
    }
   ],
   "source": [
    "g = Graph()\n",
    "\n",
    "add_vertex(g,'hello')\n",
    "add_vertex(g,'world')\n",
    "print(g)\n",
    "\n",
    "add_vertex(g,'test')\n",
    "print(g)"
   ]
  },
  {
   "cell_type": "markdown",
   "metadata": {},
   "source": [
    "# Adding an Edge\n",
    "\n",
    "To add an edge to the Graph, we write a method that will create a new edge with the proper pointers to source and target nodes, and then add it to the adjaceny list of the source node.\n",
    "\n",
    "Some special cases are included for convenience.  If the source and/or target cannot be found in the graph, we assume that the implementor wants to create the missing vertex on the fly.  We'll see how that works later.\n",
    "\n",
    "Also note that the option to easily create a bidirectional link.  This simply creates an identical edge from the target back to the source.  This can be used as an easy way to implement a non-directed graph using the directed graph interface."
   ]
  },
  {
   "cell_type": "code",
   "execution_count": 52,
   "metadata": {},
   "outputs": [],
   "source": [
    "    def add_edge(graph, source, target, weight=None, bi=False):\n",
    "        \"\"\" Add a new edge to the Graph.  If ether the source or target vertex is not yet in the Graph it will be\n",
    "        automatically added without a color.\n",
    "        :param source: The key of the vertex to be used as the \"from\" vertex.\n",
    "        :param target: The key of the vertex to be used as the \"to\" vertex.\n",
    "        :param weight: The optional weight of the edge.\n",
    "        :param bi: Boolean indicating whether or not to create a bi-directional edge.  This is implemented as creating\n",
    "        a second edge to the graph from the target to the source.\n",
    "        :return: None\n",
    "        \"\"\"\n",
    "\n",
    "        if source not in graph.vertices.keys():\n",
    "            v_src = add_vertex(graph, source)\n",
    "        else:\n",
    "            v_src = graph.vertices[source]\n",
    "        if target not in graph.vertices.keys():\n",
    "            v_tar = add_vertex(graph,target)\n",
    "        else:\n",
    "            v_tar = graph.vertices[target]\n",
    "\n",
    "        new_edge = Graph.Edge(v_src, v_tar, weight)\n",
    "        graph.vertices[source].add_edge(new_edge)\n",
    "        graph.E += 1\n",
    "\n",
    "        if bi:\n",
    "            back_edge = Graph.Edge(v_tar, v_src, weight)\n",
    "            graph.vertices[target].add_edge(back_edge)\n",
    "            graph.E += 1\n"
   ]
  },
  {
   "cell_type": "markdown",
   "metadata": {},
   "source": [
    "## Let's add a few edges to this Graph\n",
    "\n",
    "Using the vertices we created above, let's create a few edges between them.\n",
    "\n",
    "Let's just create one to get started to see the Degree and edge count increase."
   ]
  },
  {
   "cell_type": "code",
   "execution_count": 53,
   "metadata": {},
   "outputs": [
    {
     "name": "stdout",
     "output_type": "stream",
     "text": [
      "Vertices:3, Edges:1, Degree:1\n"
     ]
    }
   ],
   "source": [
    "# ADD AN EDGE FROM HELLO TO WORLD\n",
    "\n",
    "add_edge(g, 'hello','world')\n",
    "\n",
    "print(g)\n",
    "      "
   ]
  },
  {
   "cell_type": "code",
   "execution_count": 54,
   "metadata": {},
   "outputs": [
    {
     "name": "stdout",
     "output_type": "stream",
     "text": [
      "Vertices:3, Edges:2, Degree:2\n"
     ]
    }
   ],
   "source": [
    "# CREATE A SELF LOOP\n",
    "add_edge(g,'world','world')\n",
    "\n",
    "print(g)\n"
   ]
  },
  {
   "cell_type": "markdown",
   "metadata": {},
   "source": [
    "## Let's print out some of the edge lists just to see how they look.\n",
    "Each vertex in the graph.vertices dictionary has an edge_list() function that returns a visual of the edges, let's print it out and see how it looks."
   ]
  },
  {
   "cell_type": "code",
   "execution_count": 55,
   "metadata": {},
   "outputs": [
    {
     "name": "stdout",
     "output_type": "stream",
     "text": [
      "Vertex:(hello)\n",
      "Edges:\n",
      "(hello)-->(world)\n",
      "\n",
      "Vertex:(world)\n",
      "Edges:\n",
      "(world)-->(world)\n",
      "\n",
      "Vertex:(test)\n",
      "Edges:\n",
      "\n"
     ]
    }
   ],
   "source": [
    "for k in g.vertices.values():\n",
    "    print(f\"Vertex:{k}\")\n",
    "    print(f\"Edges:\\n{k.edge_list()}\")"
   ]
  },
  {
   "cell_type": "markdown",
   "metadata": {},
   "source": [
    "### Creating Vertices and Edges at the same time.\n",
    "This isn't a convention but it is convenience.  Let's create a couple of edges with brand new vertices at the same time.  Let's add a weight just for fun."
   ]
  },
  {
   "cell_type": "code",
   "execution_count": 56,
   "metadata": {},
   "outputs": [
    {
     "name": "stdout",
     "output_type": "stream",
     "text": [
      "Vertex:(hello)\n",
      "Edges:\n",
      "(hello)-->(world)\n",
      "\n",
      "Vertex:(world)\n",
      "Edges:\n",
      "(world)-->(world)\n",
      "\n",
      "Vertex:(test)\n",
      "Edges:\n",
      "(test)-[2]->(this code)\n",
      "\n",
      "Vertex:(this code)\n",
      "Edges:\n",
      "\n",
      "Vertex:(is cool)\n",
      "Edges:\n",
      "(is cool)-[4]->(this code)\n",
      "\n"
     ]
    }
   ],
   "source": [
    "add_edge(g, 'test','this code', weight=2)\n",
    "add_edge(g, 'is cool', 'this code', weight=4)\n",
    "\n",
    "for k in g.vertices.values():\n",
    "    print(f\"Vertex:{k}\")\n",
    "    print(f\"Edges:\\n{k.edge_list()}\")"
   ]
  },
  {
   "cell_type": "markdown",
   "metadata": {},
   "source": [
    "# Student Excercise: Explore Graphs\n",
    "\n",
    "\n",
    "---\n",
    "<span style=\"color:green\">\n",
    "Create a new graph and add your own flavor of nodes and edges.  Try to create a complete graph, or a graph with a hamiltonian path but no cycles, or a bipartite graph.  These graphs can be later used for testing some of our algorithms.</span>\n",
    "\n",
    "---"
   ]
  },
  {
   "cell_type": "code",
   "execution_count": 57,
   "metadata": {},
   "outputs": [],
   "source": [
    "my_cool_graph = Graph()\n",
    "\n",
    "#### DO SOME COOL STUFF AND PRINT IT OUT.\n",
    "\n",
    "\n",
    "for k in my_cool_graph.vertices.values():\n",
    "    print(f\"Vertex:{k}\")\n",
    "    print(f\"Edges:\\n{k.edge_list()}\")"
   ]
  },
  {
   "cell_type": "markdown",
   "metadata": {},
   "source": [
    "# Traversal: Depth First Search\n",
    "We saw depth first search in the slides implemented in a recursive form.  Here is it implemented in an iterative form using a stack (well, a python list that is masquerading as a stack)\n",
    "\n",
    "Note that this is implemented as a Generator (using `yield`) so it should be used to iterate through the vertices of the stack.  It returns the full vertex because the end user might want to know its weight or adjacent edges."
   ]
  },
  {
   "cell_type": "code",
   "execution_count": 58,
   "metadata": {},
   "outputs": [],
   "source": [
    "    def depth_first_search(graph, start):\n",
    "        if start not in graph.vertices.keys():\n",
    "            raise KeyError(f\"Key: {start} does not exist in the graph.\")\n",
    "\n",
    "        stack = [graph.vertices[start]]\n",
    "        visited = []\n",
    "        while stack:\n",
    "            curr = stack.pop()\n",
    "            if curr in visited:  # SKIP NODES WE'VE ALREADY SEEN\n",
    "                continue\n",
    "            visited.append(curr)\n",
    "            for edge in curr.get_edges():\n",
    "                if edge.target not in visited:\n",
    "                    stack.append(edge.target)\n",
    "\n",
    "            yield curr\n"
   ]
  },
  {
   "cell_type": "markdown",
   "metadata": {},
   "source": [
    "## Using the DFS on our previously created graph.\n",
    "\n",
    "We should be able to see a DFS on our original grpah that we created.  Note that this requires us to choose a starting point for the traversal, it does NOT search the entire graph.  We will see that later.\n"
   ]
  },
  {
   "cell_type": "code",
   "execution_count": 59,
   "metadata": {},
   "outputs": [
    {
     "name": "stdout",
     "output_type": "stream",
     "text": [
      "Traversing: (hello)\n",
      "Traversing: (world)\n"
     ]
    }
   ],
   "source": [
    "for v in depth_first_search(g,'hello'):\n",
    "    print(f\"Traversing: {v}\")\n",
    "\n"
   ]
  },
  {
   "cell_type": "markdown",
   "metadata": {},
   "source": [
    "Let's force a cycle to the graph.  Hello -> World -> Hello\n",
    "\n",
    "if implemented correctly we should not fall into an infinite loop."
   ]
  },
  {
   "cell_type": "code",
   "execution_count": 60,
   "metadata": {
    "pycharm": {
     "is_executing": true
    }
   },
   "outputs": [
    {
     "name": "stdout",
     "output_type": "stream",
     "text": [
      "Traversing: (hello)\n",
      "Traversing: (world)\n"
     ]
    }
   ],
   "source": [
    "add_edge(g, 'world','hello')\n",
    "\n",
    "for v in depth_first_search(g,'hello'):\n",
    "    print(f\"Traversing: {v}\")"
   ]
  },
  {
   "cell_type": "markdown",
   "metadata": {},
   "source": [
    "Now let's add a few more items to see it traverse for more than a few steps."
   ]
  },
  {
   "cell_type": "code",
   "execution_count": 61,
   "metadata": {
    "pycharm": {
     "is_executing": true
    }
   },
   "outputs": [
    {
     "name": "stdout",
     "output_type": "stream",
     "text": [
      "Traversing: (hello)\n",
      "Traversing: (world)\n",
      "Traversing: (test)\n",
      "Traversing: (this code)\n",
      "Traversing: (a)\n",
      "Traversing: (c)\n",
      "Traversing: (d)\n",
      "Traversing: (b)\n"
     ]
    }
   ],
   "source": [
    "add_edge(g, 'world','test')\n",
    "add_edge(g, 'this code','a')\n",
    "add_edge(g,  'a','b')\n",
    "add_edge(g, 'a','c')\n",
    "add_edge(g, 'c','d')\n",
    "\n",
    "for v in depth_first_search(g,'hello'):\n",
    "    print(f\"Traversing: {v}\")"
   ]
  },
  {
   "cell_type": "markdown",
   "metadata": {},
   "source": [
    "# Student Excercise: Explore Graphs\n",
    "\n",
    "\n",
    "---\n",
    "<span style=\"color:green\">\n",
    "Traverse your graph from above.  Add some new edges and see what the traversal will do.  Try and predict the order.  Note that you aren't guaranteed an order of adjacent children (if a has children b and c then b may be traversed before c or vice versa.  It depends on the order in which they were added.</span>\n",
    "\n",
    "---"
   ]
  },
  {
   "cell_type": "code",
   "execution_count": 62,
   "metadata": {
    "pycharm": {
     "is_executing": true
    }
   },
   "outputs": [],
   "source": [
    "# for ##############:\n",
    "#     print(######)\n",
    "        \n",
    "# add_edge(my_cool_graph, ########)\n",
    "\n"
   ]
  },
  {
   "cell_type": "markdown",
   "metadata": {},
   "source": [
    "# Acyclic Graphs (Cycle Detection)\n",
    "\n",
    "In the slides we saw how to detect cycles. Using the same algorithm we are flipping it to determine if a graph is acyclic.  If a cycle is detected, return false, otherwise return true."
   ]
  },
  {
   "cell_type": "code",
   "execution_count": 63,
   "metadata": {
    "pycharm": {
     "is_executing": true
    }
   },
   "outputs": [],
   "source": [
    "    def is_acyclic(self):\n",
    "        \"\"\"Performs a complete search of the graph, halting when a cycle is found or when all vertices in\n",
    "         the graph have been traversed.\n",
    "         :returns: True if no cycle is detected, false otherwise. An empty graph will return True\"\"\"\n",
    "\n",
    "        if not self.vertices:\n",
    "            return True\n",
    "\n",
    "        # VERTICES TO TRAVERSE FROM\n",
    "        white_vertices = list(self.vertices.keys())\n",
    "\n",
    "        # VERTICES THAT HAVE ALL BEEN VISITED\n",
    "        black_vertices = []\n",
    "\n",
    "        # VERTICES THAT ARE ON THE CURRENT TRAVERSAL PATH\n",
    "        grey_vertices = []\n",
    "        while white_vertices:\n",
    "            start = white_vertices.pop()\n",
    "            stack = [self.vertices[start]]\n",
    "            while stack:\n",
    "                curr = stack.pop()\n",
    "\n",
    "                if curr.key in white_vertices:\n",
    "                    white_vertices.remove(curr.key)\n",
    "\n",
    "                grey_vertices.append(curr.key)\n",
    "\n",
    "                # HOW MANY NEIGHBORS TO TRAVERSE\n",
    "                trav_neighbors = []\n",
    "                for edge in curr.get_edges():\n",
    "                    if edge.target.key in grey_vertices: # we found a cycle!\n",
    "                        return False\n",
    "                    elif edge.target.key in white_vertices:\n",
    "                        trav_neighbors.append(edge.target)\n",
    "\n",
    "                if len(trav_neighbors) > 0:\n",
    "                    stack.append(curr)\n",
    "                    for n in trav_neighbors:\n",
    "                        stack.append(n)\n",
    "                else:\n",
    "                    grey_vertices.remove(curr.key)\n",
    "                    black_vertices.append(curr.key)\n",
    "\n",
    "        # We have traversed the entire tree without a cycle.\n",
    "        return True\n",
    "\n"
   ]
  },
  {
   "cell_type": "markdown",
   "metadata": {},
   "source": [
    "Our original graph we know to contain a cycle, let's test the code above and see how it works."
   ]
  },
  {
   "cell_type": "code",
   "execution_count": 64,
   "metadata": {
    "pycharm": {
     "is_executing": true
    }
   },
   "outputs": [
    {
     "name": "stdout",
     "output_type": "stream",
     "text": [
      "False\n"
     ]
    }
   ],
   "source": [
    "print(is_acyclic(g))"
   ]
  },
  {
   "cell_type": "raw",
   "metadata": {},
   "source": [
    "If implemented correctly we see that the above graph is NOT acyclic, meaning it contains at least one cycle.\n",
    "\n",
    "Let's create a new graph that doesn't contain a cycle to make sure we are still returning the proper results."
   ]
  },
  {
   "cell_type": "code",
   "execution_count": 65,
   "metadata": {
    "pycharm": {
     "is_executing": true
    }
   },
   "outputs": [
    {
     "name": "stdout",
     "output_type": "stream",
     "text": [
      "True\n"
     ]
    }
   ],
   "source": [
    "g2 = Graph()\n",
    "\n",
    "add_edge(g2, 'a','b')\n",
    "add_edge(g2, 'b','c')\n",
    "add_edge(g2, 'c','d')\n",
    "add_edge(g2, 'b','d')\n",
    "add_edge(g2, 'd','e')\n",
    "add_edge(g2, 'e','g')\n",
    "\n",
    "\n",
    "print(is_acyclic(g2))\n"
   ]
  },
  {
   "cell_type": "markdown",
   "metadata": {},
   "source": [
    "# Student Excercise: Explore Graphs\n",
    "\n",
    "---\n",
    "<span style=\"color:green\">\n",
    "Create some new graphs with some new structures, connected, disconnected, self-looping and check them for cycles.\n",
    "---"
   ]
  },
  {
   "cell_type": "code",
   "execution_count": 66,
   "metadata": {
    "pycharm": {
     "is_executing": true
    }
   },
   "outputs": [
    {
     "name": "stdout",
     "output_type": "stream",
     "text": [
      "True\n"
     ]
    }
   ],
   "source": [
    "new_graph = Graph()\n",
    "\n",
    "add_edge(new_graph, 'a','b')\n",
    "#####\n",
    "####\n",
    "###\n",
    "\n",
    "\n",
    "print(is_acyclic(new_graph))"
   ]
  },
  {
   "cell_type": "code",
   "execution_count": null,
   "metadata": {
    "pycharm": {
     "is_executing": true
    }
   },
   "outputs": [],
   "source": []
  }
 ],
 "metadata": {
  "kernelspec": {
   "display_name": "Python 3",
   "language": "python",
   "name": "python3"
  },
  "language_info": {
   "codemirror_mode": {
    "name": "ipython",
    "version": 3
   },
   "file_extension": ".py",
   "mimetype": "text/x-python",
   "name": "python",
   "nbconvert_exporter": "python",
   "pygments_lexer": "ipython3",
   "version": "3.8.2"
  }
 },
 "nbformat": 4,
 "nbformat_minor": 4
}