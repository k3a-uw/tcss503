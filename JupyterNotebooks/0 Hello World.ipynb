{
 "cells": [
  {
   "cell_type": "markdown",
   "metadata": {},
   "source": [
    "# TCSS503 - Hello, World.\n",
    "\n",
    "This sample Jupyter Notebook shows a few samples of how to use Jupyter Notebook with Python.  This includes things like executing basic code, showing basic results, and a few basic plot functions.  It is not meant to be an exhaustive feature showcase of Jupyter, but rather sample just to get you started... that the title _Hello World_.\n",
    "\n",
    "First example, are markdown cells such as this one.  When a markdown cell is **executed** it translates the mark down into a pretty format.\n",
    "\n",
    "If you are new to markdown, I recommend using [this guide](https://www.markdownguide.org/cheat-sheet/) for examples of the syntax."
   ]
  },
  {
   "cell_type": "markdown",
   "metadata": {},
   "source": [
    "A few basic examples are Headers (using # characters.  The more ##'s the smaller the header)\n",
    "\n",
    "# Header 1\n",
    "## Header 2\n",
    "### Header 3\n",
    "#### Header 4\n",
    "\n",
    "And this is a paragraph under the header.  You can use - or *'s to represent bulletted lists.\n",
    "- Hello\n",
    "* World\n",
    "  * Use spaces to indent lists\n",
    "- You can use numbers to number your lists as well.\n",
    "\n",
    "---\n",
    "\n",
    "1. Item 1\n",
    "2. Item 2\n",
    "3. Item 3\n",
    "  1. Item 3.A\n",
    "  2. Item 3.B\n",
    "4. Item 4\n",
    "\n",
    "---\n",
    "\n",
    "- [x] Write the press release\n",
    "- [ ] Update the website\n",
    "- [ ] Contact the media"
   ]
  },
  {
   "cell_type": "markdown",
   "metadata": {},
   "source": [
    "## $\\LaTex$\n",
    "If the Jupyter server supports it (has the proper libraries installed) you can even display complex mathemtatical formulas using $\\LaTex$  Use $'s around the commands to format your equations using Latex Math.\n",
    "\n",
    "Examples:\n",
    "\n",
    "---\n",
    "<font size=\"5\">\n",
    "$F(x) = \\int^a_b \\frac{1}{3}x^3$\n",
    "\n",
    "$x=\\frac{-b\\pm\\sqrt{b^2-4ac}}{2a}$\n",
    "</font>"
   ]
  },
  {
   "cell_type": "markdown",
   "metadata": {},
   "source": [
    "\n",
    "## Code Execution\n",
    "\n",
    "In a Code cell, the entire contents of the code in the cell block is executed.  To break up code exeuction, create multiple cells.\n",
    "\n",
    "State is maintained after code is executed.  You needn't execute all cell blocks in order.  You can execute block 4 before block 3 if you desire, but \"execute all\" will execute them in order."
   ]
  },
  {
   "cell_type": "code",
   "execution_count": 1,
   "metadata": {},
   "outputs": [],
   "source": [
    "# SETTING X TO ZERO TO DEMONSTRATE SOME STATE MANAGEMENT\n",
    "x = 0"
   ]
  },
  {
   "cell_type": "code",
   "execution_count": 2,
   "metadata": {},
   "outputs": [
    {
     "name": "stdout",
     "output_type": "stream",
     "text": [
      "You have executed this block 1 times.\n"
     ]
    }
   ],
   "source": [
    "x += 1\n",
    "print(f\"You have executed this block {x} times.\")"
   ]
  },
  {
   "cell_type": "markdown",
   "metadata": {},
   "source": [
    "## Importing Libraries\n",
    "\n",
    "Libraries can be imported the same as within any python script.  The libraries available are the libraries available in the envirionment that is running Jupyter Notebook.  For example, if you are running Jupyter from your local project, any libraries you install there are importable here.  However, if you are running using the hosted Jupyter provided by UW, you can only import that is installed there."
   ]
  },
  {
   "cell_type": "code",
   "execution_count": 3,
   "metadata": {},
   "outputs": [],
   "source": [
    "import json\n",
    "import requests"
   ]
  },
  {
   "cell_type": "markdown",
   "metadata": {},
   "source": [
    "## SAMPLE GET\n",
    "https://gorest.co.in is a toybox API that generates real-looking data for practice with interating with REST APIs.  The data below is NOT real.\n",
    "\n",
    "Large prints will display in a scoll box to preserve real estate on the page.  When the page is exported as HTML the full output will display."
   ]
  },
  {
   "cell_type": "code",
   "execution_count": 4,
   "metadata": {
    "scrolled": true
   },
   "outputs": [
    {
     "name": "stdout",
     "output_type": "stream",
     "text": [
      "{\n",
      "  \"code\": 200,\n",
      "  \"meta\": {\n",
      "    \"pagination\": {\n",
      "      \"total\": 2572,\n",
      "      \"pages\": 129,\n",
      "      \"page\": 1,\n",
      "      \"limit\": 20\n",
      "    }\n",
      "  },\n",
      "  \"data\": [\n",
      "    {\n",
      "      \"id\": 3582,\n",
      "      \"name\": \"889465\",\n",
      "      \"email\": \"889465@gmail.com\",\n",
      "      \"gender\": \"male\",\n",
      "      \"status\": \"active\"\n",
      "    },\n",
      "    {\n",
      "      \"id\": 3583,\n",
      "      \"name\": \"566366\",\n",
      "      \"email\": \"566366@gmail.com\",\n",
      "      \"gender\": \"male\",\n",
      "      \"status\": \"active\"\n",
      "    },\n",
      "    {\n",
      "      \"id\": 3584,\n",
      "      \"name\": \"292056\",\n",
      "      \"email\": \"292056@gmail.com\",\n",
      "      \"gender\": \"male\",\n",
      "      \"status\": \"active\"\n",
      "    },\n",
      "    {\n",
      "      \"id\": 3586,\n",
      "      \"name\": \"491866\",\n",
      "      \"email\": \"491866@gmail.com\",\n",
      "      \"gender\": \"male\",\n",
      "      \"status\": \"active\"\n",
      "    },\n",
      "    {\n",
      "      \"id\": 3588,\n",
      "      \"name\": \"316881\",\n",
      "      \"email\": \"316881@gmail.com\",\n",
      "      \"gender\": \"male\",\n",
      "      \"status\": \"active\"\n",
      "    },\n",
      "    {\n",
      "      \"id\": 3596,\n",
      "      \"name\": \"test_name_1641678253956\",\n",
      "      \"email\": \"test.email1641678253956@15ce.com\",\n",
      "      \"gender\": \"male\",\n",
      "      \"status\": \"active\"\n",
      "    },\n",
      "    {\n",
      "      \"id\": 41,\n",
      "      \"name\": \"Gov. Pran Kaur\",\n",
      "      \"email\": \"gov_pran_kaur@legros.net\",\n",
      "      \"gender\": \"male\",\n",
      "      \"status\": \"inactive\"\n",
      "    },\n",
      "    {\n",
      "      \"id\": 43,\n",
      "      \"name\": \"Anand Swarup Nayar\",\n",
      "      \"email\": \"swarup_nayar_anand@rath-smith.com\",\n",
      "      \"gender\": \"male\",\n",
      "      \"status\": \"active\"\n",
      "    },\n",
      "    {\n",
      "      \"id\": 2629,\n",
      "      \"name\": \"Tenali Ramakrishnafgf\",\n",
      "      \"email\": \"tenali.ramakrishna@15444ce.com\",\n",
      "      \"gender\": \"male\",\n",
      "      \"status\": \"active\"\n",
      "    },\n",
      "    {\n",
      "      \"id\": 46,\n",
      "      \"name\": \"Anandamayi Singh\",\n",
      "      \"email\": \"anandamayi_singh@wunsch.org\",\n",
      "      \"gender\": \"male\",\n",
      "      \"status\": \"active\"\n",
      "    },\n",
      "    {\n",
      "      \"id\": 50,\n",
      "      \"name\": \"Anshula Dutta\",\n",
      "      \"email\": \"anshula_dutta@pacocha.info\",\n",
      "      \"gender\": \"female\",\n",
      "      \"status\": \"inactive\"\n",
      "    },\n",
      "    {\n",
      "      \"id\": 51,\n",
      "      \"name\": \"Amb. Tara Kakkar\",\n",
      "      \"email\": \"amb_tara_kakkar@wuckert.info\",\n",
      "      \"gender\": \"male\",\n",
      "      \"status\": \"active\"\n",
      "    },\n",
      "    {\n",
      "      \"id\": 52,\n",
      "      \"name\": \"Deepan Abbott\",\n",
      "      \"email\": \"deepan_abbott@wunsch-kohler.info\",\n",
      "      \"gender\": \"female\",\n",
      "      \"status\": \"active\"\n",
      "    },\n",
      "    {\n",
      "      \"id\": 53,\n",
      "      \"name\": \"Kalyani Patel\",\n",
      "      \"email\": \"kalyani_patel@blick-lang.name\",\n",
      "      \"gender\": \"female\",\n",
      "      \"status\": \"inactive\"\n",
      "    },\n",
      "    {\n",
      "      \"id\": 54,\n",
      "      \"name\": \"Vrund Shukla\",\n",
      "      \"email\": \"shukla_vrund@greenfelder-gleason.co\",\n",
      "      \"gender\": \"female\",\n",
      "      \"status\": \"inactive\"\n",
      "    },\n",
      "    {\n",
      "      \"id\": 55,\n",
      "      \"name\": \"Rep. Vrinda Sharma\",\n",
      "      \"email\": \"vrinda_sharma_rep@keeling.name\",\n",
      "      \"gender\": \"male\",\n",
      "      \"status\": \"inactive\"\n",
      "    },\n",
      "    {\n",
      "      \"id\": 56,\n",
      "      \"name\": \"Rev. Chandrani Marar\",\n",
      "      \"email\": \"chandrani_marar_rev@emmerich.info\",\n",
      "      \"gender\": \"female\",\n",
      "      \"status\": \"inactive\"\n",
      "    },\n",
      "    {\n",
      "      \"id\": 57,\n",
      "      \"name\": \"Diptendu Joshi\",\n",
      "      \"email\": \"diptendu_joshi@gusikowski.info\",\n",
      "      \"gender\": \"male\",\n",
      "      \"status\": \"inactive\"\n",
      "    },\n",
      "    {\n",
      "      \"id\": 58,\n",
      "      \"name\": \"Chatura Guha\",\n",
      "      \"email\": \"chatura_guha@jones-adams.org\",\n",
      "      \"gender\": \"female\",\n",
      "      \"status\": \"inactive\"\n",
      "    },\n",
      "    {\n",
      "      \"id\": 59,\n",
      "      \"name\": \"Suresh Dwivedi\",\n",
      "      \"email\": \"suresh_dwivedi@pacocha.info\",\n",
      "      \"gender\": \"female\",\n",
      "      \"status\": \"inactive\"\n",
      "    }\n",
      "  ]\n",
      "}\n"
     ]
    }
   ],
   "source": [
    "\n",
    "url = \"https://gorest.co.in/public-api/users\"\n",
    "\n",
    "r = requests.get(url)\n",
    "\n",
    "if r.status_code == 200:\n",
    "    response_pretty = json.dumps(r.json(), indent=2)\n",
    "    print(response_pretty)\n",
    "else:\n",
    "    print(f\"Connection Failed {r.status_code}...{r.reason}\")\n",
    "\n"
   ]
  },
  {
   "cell_type": "markdown",
   "metadata": {},
   "source": [
    "## Playing With Data\n",
    "\n",
    "Using Pandas we will download data and display a little bit of the data.\n",
    "\n",
    "The following is just a toy example pulled from a public dataset.  Sometimes a cell can take a little while run.  You can watch it run by observing the * next to the In number."
   ]
  },
  {
   "cell_type": "code",
   "execution_count": 6,
   "metadata": {
    "scrolled": false
   },
   "outputs": [
    {
     "name": "stdout",
     "output_type": "stream",
     "text": [
      "Data Size: 1832 rows and 14 columns\n"
     ]
    }
   ],
   "source": [
    "import pandas as pd\n",
    "\n",
    "url = \"https://www.stats.govt.nz/assets/Uploads/Business-financial-data/Business-financial-data-September-2020-quarter/Download-data/business-financial-data-september-2020-quarter-csv.zip\"\n",
    "df = pd.read_csv(url)\n",
    "\n",
    "nrows, ncols = df.shape\n",
    "print(f\"Data Size: {nrows} rows and {ncols} columns\")"
   ]
  },
  {
   "cell_type": "markdown",
   "metadata": {},
   "source": [
    "You don't always have to print.. the last executed statement will display as output.  Jupyter knows how to make the results somewhat pretty."
   ]
  },
  {
   "cell_type": "code",
   "execution_count": 7,
   "metadata": {
    "scrolled": true
   },
   "outputs": [
    {
     "data": {
      "text/html": [
       "<div>\n",
       "<style scoped>\n",
       "    .dataframe tbody tr th:only-of-type {\n",
       "        vertical-align: middle;\n",
       "    }\n",
       "\n",
       "    .dataframe tbody tr th {\n",
       "        vertical-align: top;\n",
       "    }\n",
       "\n",
       "    .dataframe thead th {\n",
       "        text-align: right;\n",
       "    }\n",
       "</style>\n",
       "<table border=\"1\" class=\"dataframe\">\n",
       "  <thead>\n",
       "    <tr style=\"text-align: right;\">\n",
       "      <th></th>\n",
       "      <th>Series_reference</th>\n",
       "      <th>Period</th>\n",
       "      <th>Data_value</th>\n",
       "      <th>Suppressed</th>\n",
       "      <th>STATUS</th>\n",
       "      <th>UNITS</th>\n",
       "      <th>Magnitude</th>\n",
       "      <th>Subject</th>\n",
       "      <th>Group</th>\n",
       "      <th>Series_title_1</th>\n",
       "      <th>Series_title_2</th>\n",
       "      <th>Series_title_3</th>\n",
       "      <th>Series_title_4</th>\n",
       "      <th>Series_title_5</th>\n",
       "    </tr>\n",
       "  </thead>\n",
       "  <tbody>\n",
       "    <tr>\n",
       "      <th>0</th>\n",
       "      <td>BDCQ.SF1AA2CA</td>\n",
       "      <td>2016.06</td>\n",
       "      <td>1116.386</td>\n",
       "      <td>NaN</td>\n",
       "      <td>F</td>\n",
       "      <td>Dollars</td>\n",
       "      <td>6</td>\n",
       "      <td>Business Data Collection - BDC</td>\n",
       "      <td>Industry by financial variable</td>\n",
       "      <td>Sales (operating income)</td>\n",
       "      <td>Forestry and Logging</td>\n",
       "      <td>Current prices</td>\n",
       "      <td>Unadjusted</td>\n",
       "      <td>NaN</td>\n",
       "    </tr>\n",
       "    <tr>\n",
       "      <th>1</th>\n",
       "      <td>BDCQ.SF1AA2CA</td>\n",
       "      <td>2016.09</td>\n",
       "      <td>1070.874</td>\n",
       "      <td>NaN</td>\n",
       "      <td>F</td>\n",
       "      <td>Dollars</td>\n",
       "      <td>6</td>\n",
       "      <td>Business Data Collection - BDC</td>\n",
       "      <td>Industry by financial variable</td>\n",
       "      <td>Sales (operating income)</td>\n",
       "      <td>Forestry and Logging</td>\n",
       "      <td>Current prices</td>\n",
       "      <td>Unadjusted</td>\n",
       "      <td>NaN</td>\n",
       "    </tr>\n",
       "    <tr>\n",
       "      <th>2</th>\n",
       "      <td>BDCQ.SF1AA2CA</td>\n",
       "      <td>2016.12</td>\n",
       "      <td>1054.408</td>\n",
       "      <td>NaN</td>\n",
       "      <td>F</td>\n",
       "      <td>Dollars</td>\n",
       "      <td>6</td>\n",
       "      <td>Business Data Collection - BDC</td>\n",
       "      <td>Industry by financial variable</td>\n",
       "      <td>Sales (operating income)</td>\n",
       "      <td>Forestry and Logging</td>\n",
       "      <td>Current prices</td>\n",
       "      <td>Unadjusted</td>\n",
       "      <td>NaN</td>\n",
       "    </tr>\n",
       "    <tr>\n",
       "      <th>3</th>\n",
       "      <td>BDCQ.SF1AA2CA</td>\n",
       "      <td>2017.03</td>\n",
       "      <td>1010.665</td>\n",
       "      <td>NaN</td>\n",
       "      <td>F</td>\n",
       "      <td>Dollars</td>\n",
       "      <td>6</td>\n",
       "      <td>Business Data Collection - BDC</td>\n",
       "      <td>Industry by financial variable</td>\n",
       "      <td>Sales (operating income)</td>\n",
       "      <td>Forestry and Logging</td>\n",
       "      <td>Current prices</td>\n",
       "      <td>Unadjusted</td>\n",
       "      <td>NaN</td>\n",
       "    </tr>\n",
       "    <tr>\n",
       "      <th>4</th>\n",
       "      <td>BDCQ.SF1AA2CA</td>\n",
       "      <td>2017.06</td>\n",
       "      <td>1233.700</td>\n",
       "      <td>NaN</td>\n",
       "      <td>F</td>\n",
       "      <td>Dollars</td>\n",
       "      <td>6</td>\n",
       "      <td>Business Data Collection - BDC</td>\n",
       "      <td>Industry by financial variable</td>\n",
       "      <td>Sales (operating income)</td>\n",
       "      <td>Forestry and Logging</td>\n",
       "      <td>Current prices</td>\n",
       "      <td>Unadjusted</td>\n",
       "      <td>NaN</td>\n",
       "    </tr>\n",
       "  </tbody>\n",
       "</table>\n",
       "</div>"
      ],
      "text/plain": [
       "  Series_reference   Period  Data_value  Suppressed STATUS    UNITS  \\\n",
       "0    BDCQ.SF1AA2CA  2016.06    1116.386         NaN      F  Dollars   \n",
       "1    BDCQ.SF1AA2CA  2016.09    1070.874         NaN      F  Dollars   \n",
       "2    BDCQ.SF1AA2CA  2016.12    1054.408         NaN      F  Dollars   \n",
       "3    BDCQ.SF1AA2CA  2017.03    1010.665         NaN      F  Dollars   \n",
       "4    BDCQ.SF1AA2CA  2017.06    1233.700         NaN      F  Dollars   \n",
       "\n",
       "   Magnitude                         Subject                           Group  \\\n",
       "0          6  Business Data Collection - BDC  Industry by financial variable   \n",
       "1          6  Business Data Collection - BDC  Industry by financial variable   \n",
       "2          6  Business Data Collection - BDC  Industry by financial variable   \n",
       "3          6  Business Data Collection - BDC  Industry by financial variable   \n",
       "4          6  Business Data Collection - BDC  Industry by financial variable   \n",
       "\n",
       "             Series_title_1        Series_title_2  Series_title_3  \\\n",
       "0  Sales (operating income)  Forestry and Logging  Current prices   \n",
       "1  Sales (operating income)  Forestry and Logging  Current prices   \n",
       "2  Sales (operating income)  Forestry and Logging  Current prices   \n",
       "3  Sales (operating income)  Forestry and Logging  Current prices   \n",
       "4  Sales (operating income)  Forestry and Logging  Current prices   \n",
       "\n",
       "  Series_title_4  Series_title_5  \n",
       "0     Unadjusted             NaN  \n",
       "1     Unadjusted             NaN  \n",
       "2     Unadjusted             NaN  \n",
       "3     Unadjusted             NaN  \n",
       "4     Unadjusted             NaN  "
      ]
     },
     "execution_count": 7,
     "metadata": {},
     "output_type": "execute_result"
    }
   ],
   "source": [
    "df.head()"
   ]
  },
  {
   "cell_type": "markdown",
   "metadata": {},
   "source": [
    "But if you \"print\" the dataframe is looks a bit more ugly:"
   ]
  },
  {
   "cell_type": "code",
   "execution_count": 8,
   "metadata": {},
   "outputs": [
    {
     "name": "stdout",
     "output_type": "stream",
     "text": [
      "  Series_reference   Period  Data_value  Suppressed STATUS    UNITS  \\\n",
      "0    BDCQ.SF1AA2CA  2016.06    1116.386         NaN      F  Dollars   \n",
      "1    BDCQ.SF1AA2CA  2016.09    1070.874         NaN      F  Dollars   \n",
      "2    BDCQ.SF1AA2CA  2016.12    1054.408         NaN      F  Dollars   \n",
      "3    BDCQ.SF1AA2CA  2017.03    1010.665         NaN      F  Dollars   \n",
      "4    BDCQ.SF1AA2CA  2017.06    1233.700         NaN      F  Dollars   \n",
      "\n",
      "   Magnitude                         Subject                           Group  \\\n",
      "0          6  Business Data Collection - BDC  Industry by financial variable   \n",
      "1          6  Business Data Collection - BDC  Industry by financial variable   \n",
      "2          6  Business Data Collection - BDC  Industry by financial variable   \n",
      "3          6  Business Data Collection - BDC  Industry by financial variable   \n",
      "4          6  Business Data Collection - BDC  Industry by financial variable   \n",
      "\n",
      "             Series_title_1        Series_title_2  Series_title_3  \\\n",
      "0  Sales (operating income)  Forestry and Logging  Current prices   \n",
      "1  Sales (operating income)  Forestry and Logging  Current prices   \n",
      "2  Sales (operating income)  Forestry and Logging  Current prices   \n",
      "3  Sales (operating income)  Forestry and Logging  Current prices   \n",
      "4  Sales (operating income)  Forestry and Logging  Current prices   \n",
      "\n",
      "  Series_title_4  Series_title_5  \n",
      "0     Unadjusted             NaN  \n",
      "1     Unadjusted             NaN  \n",
      "2     Unadjusted             NaN  \n",
      "3     Unadjusted             NaN  \n",
      "4     Unadjusted             NaN  \n"
     ]
    }
   ],
   "source": [
    "print(df.head())"
   ]
  },
  {
   "cell_type": "markdown",
   "metadata": {},
   "source": [
    "If you want to display plots, use the keyword `%matplotlib inline` beflore loading the matplot lib library.  This will allow your plots to display inline.  There are other options, such as `%matplotlib inline` that make the charts interactive, but they don't work with all of the plotting packages so I tend to just stick with line."
   ]
  },
  {
   "cell_type": "code",
   "execution_count": 13,
   "metadata": {},
   "outputs": [
    {
     "data": {
      "image/png": "[encoded data removed]",
      "text/plain": [
       "<Figure size 432x288 with 1 Axes>"
      ]
     },
     "metadata": {},
     "output_type": "display_data"
    }
   ],
   "source": [
    "# USING THESE \n",
    "%matplotlib inline\n",
    "\n",
    "\n",
    "import seaborn as sns\n",
    "import matplotlib.pyplot as plt\n",
    "\n",
    "sns.set_style(\"whitegrid\")\n",
    "ax = sns.histplot(df[\"Data_value\"], kde=True)\n",
    "ax.set(xlim=(0,2000),\n",
    "       xlabel=\"Values\",\n",
    "       ylabel=\"Frequency\",\n",
    "       title=\"Sample Plot\")\n",
    "\n",
    "plt.show()\n"
   ]
  },
  {
   "cell_type": "markdown",
   "metadata": {},
   "source": [
    "# Thanks\n",
    "This concludes the basic Hello, World tutorial for Jupyter Notebooks.  Hope you enjoy using them."
   ]
  }
 ],
 "metadata": {
  "kernelspec": {
   "display_name": "Python 3 (ipykernel)",
   "language": "python",
   "name": "python3"
  },
  "language_info": {
   "codemirror_mode": {
    "name": "ipython",
    "version": 3
   },
   "file_extension": ".py",
   "mimetype": "text/x-python",
   "name": "python",
   "nbconvert_exporter": "python",
   "pygments_lexer": "ipython3",
   "version": "3.10.0"
  }
 },
 "nbformat": 4,
 "nbformat_minor": 4
}